{
 "cells": [
  {
   "cell_type": "code",
   "execution_count": 1,
   "metadata": {},
   "outputs": [],
   "source": [
    "#                       _oo0oo_\n",
    "#                      o8888888o\n",
    "#                      88\" . \"88\n",
    "#                      (| -_- |)\n",
    "#                      0\\  =  /0\n",
    "#                    ___/`---'\\___\n",
    "#                  .' \\\\|     |# '.\n",
    "#                 / \\\\|||  :  |||# \\\n",
    "#                / _||||| -:- |||||- \\\n",
    "#               |   | \\\\\\  -  #/ |   |\n",
    "#               | \\_|  ''\\---/''  |_/ |\n",
    "#               \\  .-\\__  '-'  ___/-. /\n",
    "#             ___'. .'  /--.--\\  `. .'___\n",
    "#          .\"\" '<  `.___\\_<|>_/___.' >' \"\".\n",
    "#         | | :  `- \\`.;`\\ _ /`;.`/ - ` : | |\n",
    "#         \\  \\ `_.   \\_ __\\ /__ _/   .-` /  /\n",
    "#     =====`-.____`.___ \\_____/___.-`___.-'=====\n",
    "#                       `=---='\n",
    "#\n",
    "#\n",
    "#     ~~~~~~~~~~~~~~~~~~~~~~~~~~~~~~~~~~~~~~~~~~~\n",
    "#\n",
    "#               佛祖保佑         永无BUG"
   ]
  },
  {
   "cell_type": "code",
   "execution_count": 2,
   "metadata": {},
   "outputs": [],
   "source": [
    "import os\n",
    "\n",
    "os.environ['OPENBLAS_NUM_THREADS'] = '1'\n",
    "os.environ[\"OMP_NUM_THREADS\"] = '1'\n",
    "os.environ[\"MKL_NUM_THREADS\"] = '1'\n",
    "os.environ[\"VECLIB_MAXIMUM_THREADS\"] = '1'\n",
    "os.environ[\"NUMEXPR_NUM_THREADS\"] = '1'"
   ]
  },
  {
   "cell_type": "code",
   "execution_count": 3,
   "metadata": {},
   "outputs": [],
   "source": [
    "import pandas as pd\n",
    "import numpy as np\n",
    "import implicit\n",
    "import matplotlib.pyplot as plt\n",
    "import lightgbm as lgb\n",
    "\n",
    "from implicit.nearest_neighbours import bm25_weight\n",
    "from scipy.sparse import csr_matrix\n",
    "from implicit.evaluation import train_test_split, ndcg_at_k, precision_at_k\n",
    "from sklearn.neighbors import BallTree\n",
    "from tqdm import tqdm\n",
    "from collections import defaultdict\n",
    "import time\n",
    "from joblib import Parallel as JoblibParallel, delayed\n",
    "from sklearn.metrics import auc, roc_auc_score\n",
    "\n",
    "from dateutil.relativedelta import relativedelta\n",
    "\n",
    "%matplotlib inline\n",
    "\n",
    "pd.set_option('display.max_columns', 100)"
   ]
  },
  {
   "cell_type": "code",
   "execution_count": 4,
   "metadata": {},
   "outputs": [],
   "source": [
    "def get_millis_time():\n",
    "    return int(time.time() * 1000)\n",
    "\n",
    "\n",
    "def format_time(interval):\n",
    "    interval = relativedelta(microseconds=(interval * 10 ** 6))\n",
    "    amounts = interval.days, interval.hours, interval.minutes, interval.seconds, interval.microseconds / 10 ** 3\n",
    "    result = ' '.join(\n",
    "        u'{} {}'.format(int(amount), label)\n",
    "        for amount, label in zip(amounts, ['d', 'h', 'm', 's', 'ms']) if amount\n",
    "    )\n",
    "    if not result:\n",
    "        result = u'0 ms'\n",
    "    return result\n",
    "\n",
    "\n",
    "class TimeLatch(object):\n",
    "    def __init__(self):\n",
    "        self._start_time = time.time()\n",
    "\n",
    "    def took(self):\n",
    "        start_time = self._start_time\n",
    "        self._start_time = time.time()  # finish time\n",
    "        return self._start_time - start_time\n",
    "\n",
    "    def current(self):\n",
    "        return time.time() - self._start_time\n",
    "\n",
    "    def took_msg(self):\n",
    "        return format_time(self.took())"
   ]
  },
  {
   "cell_type": "code",
   "execution_count": 5,
   "metadata": {},
   "outputs": [],
   "source": [
    "class Parallel(JoblibParallel):\n",
    "    def __call__(self, iterable):\n",
    "        if self.n_jobs == 1:\n",
    "            return [function(*args, **kwargs) for function, args, kwargs in iterable]\n",
    "        else:\n",
    "            return super(Parallel, self).__call__(iterable)\n",
    "\n",
    "def partition_indices(total, part, nparts):\n",
    "    if not (0 <= part < nparts):\n",
    "        raise ValueError()\n",
    "    part_size = total // nparts\n",
    "    left = total % nparts\n",
    "    lower = part_size * part + min(left, part)\n",
    "    return lower, lower + part_size + (1 if part < left else 0)        \n",
    "        \n",
    "def partition(array, nparts):\n",
    "    return [\n",
    "        array[left_index:right_index]\n",
    "        for left_index, right_index in (partition_indices(len(array), part, nparts) for part in range(nparts))\n",
    "    ]\n",
    "\n",
    "def _group(group_sizes, *arrays):\n",
    "    left_index = 0\n",
    "    for group_size in group_sizes:\n",
    "        yield [array[left_index:left_index + group_size] for array in arrays]\n",
    "        left_index += group_size\n",
    "        \n",
    "def get_serp_sizes(serp_values):\n",
    "    serp_values = np.array(serp_values)\n",
    "    serp_values = serp_values.flatten()\n",
    "    _, serp_value_idx = np.unique(serp_values, return_index=True)\n",
    "    return np.diff(np.sort(np.concatenate([serp_value_idx, np.array([len(serp_values)])])))\n",
    "\n",
    "def _compute_single_ndcg(y_true, y_pred, cut_off=10):\n",
    "    if cut_off is None:\n",
    "        cut_off = len(y_true)\n",
    "\n",
    "    if np.unique(y_true).size == 1:\n",
    "        return np.nan\n",
    "\n",
    "    actual = (y_true[np.argsort(-y_pred)])[:cut_off]\n",
    "    ideal = np.sort(y_true)[::-1][:cut_off]\n",
    "\n",
    "    size = actual.shape[0]\n",
    "    denominator = np.log2(np.arange(size) + 2)\n",
    "    dcg = ((2 ** actual - 1) / denominator).sum()\n",
    "    idcg = ((2 ** ideal - 1) / denominator).sum()\n",
    "    return dcg / idcg\n",
    "\n",
    "def _compute_ndcg(y_true, y_pred, groups, cut_off=10, mean=True):\n",
    "    ndcg = np.array([\n",
    "        _compute_single_ndcg(group_target, group_pred, cut_off)\n",
    "        for group_target, group_pred in _group(groups, y_true, y_pred)\n",
    "    ])\n",
    "    return np.nanmean(ndcg) if mean else ndcg\n",
    "\n",
    "def _compute_single_mauc(y_true, y_pred):\n",
    "    if np.unique(y_true).size == 1:\n",
    "        return np.nan\n",
    "\n",
    "    return roc_auc_score(y_true, y_pred)\n",
    "\n",
    "def _compute_mauc(y_true, y_pred, groups, _, mean=True):\n",
    "    mauc = np.array([\n",
    "        _compute_single_mauc(group_target, group_pred)\n",
    "        for group_target, group_pred in _group(groups, y_true, y_pred)\n",
    "    ])\n",
    "    return np.nanmean(mauc) if mean else mauc\n",
    "\n",
    "def _compute_ap(y_true, y_pred, cut_off=10):\n",
    "    order = np.argsort(-y_pred)\n",
    "    truth = (y_true[order] > 0.0).astype(float)\n",
    "\n",
    "    positive = sum(truth)\n",
    "    if positive == 0.0 or positive == len(truth):\n",
    "        return np.nan\n",
    "\n",
    "    cut_off_ = cut_off if cut_off is not None else len(truth)\n",
    "\n",
    "    denominator = min(cut_off_, positive)\n",
    "    truth.resize(cut_off_)\n",
    "    return np.divide(np.multiply(truth, np.cumsum(truth)), 1.0 + np.arange(cut_off_)).sum() / denominator\n",
    "\n",
    "def _compute_map(y_true, y_pred, groups, cut_off=10, mean=True):\n",
    "    ap = np.array([\n",
    "        _compute_ap(group_target, group_pred, cut_off)\n",
    "        for group_target, group_pred in _group(groups, y_true, y_pred)\n",
    "    ])\n",
    "    return np.nanmean(ap) if mean else ap\n",
    "\n",
    "def _compute_single_recall(y_true, y_pred, cut_off=10):\n",
    "    order = np.argsort(-y_pred)\n",
    "    truth = (y_true[order] > 0.0).astype(float)\n",
    "\n",
    "    positive = sum(truth)\n",
    "    if positive == 0.0 or positive == len(truth):\n",
    "        return np.nan\n",
    "\n",
    "    cut_off_ = cut_off if cut_off is not None else len(truth)\n",
    "\n",
    "    denominator = min(cut_off_, positive)\n",
    "    truth.resize(cut_off_)\n",
    "    return 1. * truth[:cut_off_].sum() / denominator\n",
    "\n",
    "def _compute_recall(y_true, y_pred, groups, cut_off=10, mean=True):\n",
    "    ap = np.array([\n",
    "        _compute_single_recall(group_target, group_pred, cut_off)\n",
    "        for group_target, group_pred in _group(groups, y_true, y_pred)\n",
    "    ])\n",
    "    return np.nanmean(ap) if mean else ap    \n",
    "\n",
    "\n",
    "def _prepare_diversity_entities_group(entity, y_pred, cut_off=10):\n",
    "    order = np.argsort(-y_pred)\n",
    "    cut_off_ = cut_off if cut_off is not None else len(entity)\n",
    "    return entity[order][:cut_off]\n",
    "\n",
    "def _prepare_diversity_entities(entity, y_pred, groups, cut_off=10, mean=True):\n",
    "    result = [\n",
    "        _prepare_diversity_entities_group(group_target, group_pred, cut_off)\n",
    "        for group_target, group_pred in _group(groups, entity, y_pred)\n",
    "    ]\n",
    "    return np.hstack(result)  \n",
    "    \n",
    "def _compute_ranking_metric(metric_computer, y_true, y_pred, groups, cut_off, mean, ncores):\n",
    "    groups_parts = partition(groups, ncores)\n",
    "    metrics = Parallel(n_jobs=ncores)(\n",
    "        delayed(metric_computer)(y_true_part, y_pred_part, groups_part, cut_off, mean=False)\n",
    "        for (y_true_part, y_pred_part), groups_part in zip(_group(map(sum, groups_parts), y_true, y_pred), groups_parts)\n",
    "    )\n",
    "    metrics = np.hstack(metrics)\n",
    "    return np.nanmean(metrics) if mean else metrics\n",
    "\n",
    "\n",
    "def compute_map(y_true, y_pred, groups, ncores, cut_off=10, mean=True):\n",
    "    return _compute_ranking_metric(_compute_map, y_true, y_pred, groups, cut_off, mean, ncores)\n",
    "\n",
    "\n",
    "def compute_ndcg(y_true, y_pred, groups, ncores, cut_off=10, mean=True):\n",
    "    return _compute_ranking_metric(_compute_ndcg, y_true, y_pred, groups, cut_off, mean, ncores)\n",
    "\n",
    "\n",
    "def compute_mauc(y_true, y_pred, groups, ncores, cut_off=None, mean=True):\n",
    "    return _compute_ranking_metric(_compute_mauc, y_true, y_pred, groups, None, mean, ncores)\n",
    "\n",
    "\n",
    "def compute_recall(y_true, y_pred, groups, ncores, cut_off=10, mean=True):\n",
    "    return _compute_ranking_metric(_compute_recall, y_true, y_pred, groups, cut_off, mean, ncores)\n",
    "\n",
    "\n",
    "def compute_entropy_diversity(y_true, y_pred, groups, ncores, cut_off=10, mean=True):\n",
    "    entities = _compute_ranking_metric(_prepare_diversity_entities, y_true, y_pred, groups, cut_off, False, ncores)\n",
    "    counts = pd.DataFrame(entities).value_counts().values\n",
    "    counts = counts / len(entities)\n",
    "    return (-counts * np.log(counts)).sum()\n",
    "\n",
    "\n",
    "def compute_coverage(y_true, y_pred, groups, ncores, cut_off=10, mean=True):\n",
    "    entities = _compute_ranking_metric(_prepare_diversity_entities, y_true, y_pred, groups, cut_off, False, ncores)\n",
    "    return len(set(entities))\n",
    "\n",
    "\n",
    "class Metric(object):\n",
    "    def __init__(self, name, target='target', pred='pred', group='customer_id', ncores=1):\n",
    "        self.name = name\n",
    "        self.target = target\n",
    "        self.pred = pred\n",
    "        self.group = group\n",
    "        self.ncores = ncores\n",
    "\n",
    "    def compute_score(self, target, prediction, ncores, group=None):\n",
    "        raise NotImplementedError()\n",
    "        \n",
    "    def __call__(self, df):\n",
    "        pred = df[self.pred]\n",
    "        target = df[self.target]\n",
    "        group = df.groupby(self.group).target.count().values\n",
    "        return self.compute_score(target, pred, self.ncores, group)\n",
    "        \n",
    "class RankingCutoffMetric(Metric):\n",
    "    def __init__(self, name, computer, cut_off=None):\n",
    "        if cut_off is not None:\n",
    "            name = '{}@{}'.format(name, cut_off)\n",
    "        super().__init__(name)\n",
    "        self.cut_off = cut_off\n",
    "        self.computer = computer\n",
    "\n",
    "    def compute_score(self, target, prediction, ncores, group=None):\n",
    "        if group is None:\n",
    "            raise ValueError('group must be provided for {}'.format(self.name))\n",
    "        target = np.array(target)\n",
    "        prediction = np.array(prediction)\n",
    "        return self.computer(target, prediction, group, ncores, self.cut_off)\n",
    "    \n",
    "\n",
    "class MapMetric(RankingCutoffMetric):\n",
    "    def __init__(self, cut_off=None):\n",
    "        super().__init__('map', compute_map, cut_off)\n",
    "\n",
    "\n",
    "class NdcgMetric(RankingCutoffMetric):\n",
    "    def __init__(self, cut_off=None):\n",
    "        super().__init__('ndcg', compute_ndcg, cut_off)\n",
    "\n",
    "\n",
    "class MeanAucMetric(RankingCutoffMetric):\n",
    "    def __init__(self):\n",
    "        super().__init__('mauc', compute_mauc)\n",
    "        \n",
    "class RecallMetric(RankingCutoffMetric):\n",
    "    def __init__(self, cut_off=None):\n",
    "        super().__init__('recall', compute_recall, cut_off)\n",
    "        \n",
    "class EntropyDiversityMetric(RankingCutoffMetric):\n",
    "    def __init__(self, entity, cut_off=None):\n",
    "        super().__init__(f'entropy_diversity_of_{entity}', compute_entropy_diversity, cut_off)\n",
    "        self.ncores = 36\n",
    "        self.target = entity\n",
    "        \n",
    "class CoverageMetric(RankingCutoffMetric):\n",
    "    def __init__(self, entity, cut_off=None):\n",
    "        super().__init__(f'coverage_of_{entity}', compute_coverage, cut_off)\n",
    "        self.ncores = 36\n",
    "        self.target = entity\n",
    "        \n",
    "METRICS = [MeanAucMetric()]\n",
    "for k in (1, 5, 15):\n",
    "    METRICS += [NdcgMetric(k), RecallMetric(k),\n",
    "                EntropyDiversityMetric('chain_id', k), EntropyDiversityMetric('default_product_group_id', k),\n",
    "                CoverageMetric('chain_id', k), CoverageMetric('default_product_group_id', k)]"
   ]
  },
  {
   "cell_type": "code",
   "execution_count": 6,
   "metadata": {},
   "outputs": [],
   "source": [
    "df = pd.read_csv('data_made_restaurants.csv', )"
   ]
  },
  {
   "cell_type": "code",
   "execution_count": 7,
   "metadata": {},
   "outputs": [],
   "source": [
    "df.drop(columns=['Unnamed: 0'], inplace=True)\n",
    "\n",
    "# remove customer_id = -10 - as unknown customer\n",
    "df = df[df['customer_id'] != -10].reset_index(drop=True)\n",
    "\n",
    "# remove product_group_ids is None - not a restaurants, they are food markets\n",
    "market_index = pd.isnull(df.product_group_ids)\n",
    "df = df[~df['product_group_ids'].isnull()].reset_index(drop=True)"
   ]
  },
  {
   "cell_type": "code",
   "execution_count": 8,
   "metadata": {},
   "outputs": [],
   "source": [
    "# need to remove fastfood from validation\n",
    "fastfood = {\n",
    "    'Макдоналдс': df[df['chain_name'] == 'Макдоналдс']['chain_id'].unique().tolist(),\n",
    "    'KFC': df[df['chain_name'] == 'KFC']['chain_id'].unique().tolist(),\n",
    "    'Burger King': df[df['chain_name'] == 'Burger King']['chain_id'].unique().tolist(),\n",
    "}\n",
    "\n",
    "fastfoold_chains = np.hstack([chain_id for chain_id in fastfood.values()])"
   ]
  },
  {
   "cell_type": "code",
   "execution_count": 9,
   "metadata": {},
   "outputs": [],
   "source": [
    "df = df[~df.chain_id.isin(fastfoold_chains)]"
   ]
  },
  {
   "cell_type": "code",
   "execution_count": 10,
   "metadata": {},
   "outputs": [],
   "source": [
    "# add date features\n",
    "df['date'] = pd.to_datetime(df['date'])\n",
    "df['week'] = (df['date'] - df['date'].min()).dt.days // 7\n",
    "df['day_of_week'] = df['date'].dt.dayofweek"
   ]
  },
  {
   "cell_type": "code",
   "execution_count": 11,
   "metadata": {},
   "outputs": [],
   "source": [
    "customer_ids = df.groupby('customer_id').chain_id.nunique()\n",
    "customer_ids = np.array(customer_ids[customer_ids > 1].index)\n",
    "df = df[df.customer_id.isin(customer_ids)]"
   ]
  },
  {
   "cell_type": "code",
   "execution_count": 12,
   "metadata": {},
   "outputs": [],
   "source": [
    "df = df.reset_index(drop=True)"
   ]
  },
  {
   "cell_type": "code",
   "execution_count": 13,
   "metadata": {},
   "outputs": [],
   "source": [
    "def most_frequent_default_product_group_id(df):\n",
    "    counter = defaultdict(int)\n",
    "    largest = np.nan\n",
    "    result = []\n",
    "    for _, row in df.iterrows():\n",
    "        result.append(largest)\n",
    "        product_id = row['default_product_group_id']\n",
    "        counter[product_id] += 1\n",
    "        if np.isnan(largest) or counter[product_id] > counter[largest]:\n",
    "            largest = product_id        \n",
    "    return np.array(result)\n",
    "\n",
    "def avg_total_value(df):\n",
    "    return np.pad(np.divide(df['total_value'].cumsum()[:-1], np.arange(1, df.shape[0])), (1, 0), 'constant',\n",
    "                  constant_values=np.nan)\n",
    "    \n",
    "def _compute_historical_feature(feature_computer, df, groups):\n",
    "    values = [\n",
    "        feature_computer(group[0]) for group in _group(groups, df)\n",
    "    ]\n",
    "    return np.hstack(values)\n",
    "\n",
    "def compute_historical_feature(feature_computer, df, ncores):   \n",
    "    groups = get_serp_sizes(df['customer_id'])\n",
    "    groups_parts = partition(groups, ncores)\n",
    "    features = Parallel(n_jobs=ncores)(\n",
    "        delayed(_compute_historical_feature)(feature_computer, df_part[0], groups_part)\n",
    "        for df_part, groups_part in zip(_group(map(sum, groups_parts), df), groups_parts)\n",
    "    )    \n",
    "    return np.hstack(features)"
   ]
  },
  {
   "cell_type": "code",
   "execution_count": 14,
   "metadata": {},
   "outputs": [
    {
     "name": "stdout",
     "output_type": "stream",
     "text": [
      "computed most_frequent_default_product_group_id, 6 s 684 ms\n",
      "computed avg_total_value, 3 s 992 ms\n"
     ]
    }
   ],
   "source": [
    "NCORES = 36\n",
    "\n",
    "HIST_FEATURES = {\n",
    "    'most_frequent_default_product_group_id': most_frequent_default_product_group_id,\n",
    "    'avg_total_value': avg_total_value\n",
    "}\n",
    "\n",
    "df.sort_values(['customer_id', 'date'], inplace=True)\n",
    "\n",
    "for name, func in HIST_FEATURES.items():\n",
    "    latch = TimeLatch()\n",
    "    df[name] = compute_historical_feature(func, df, NCORES)\n",
    "    print(f'computed {name}, {latch.took_msg()}')\n",
    "    \n",
    "df.sort_index(inplace=True)"
   ]
  },
  {
   "cell_type": "code",
   "execution_count": 15,
   "metadata": {},
   "outputs": [],
   "source": [
    "# split data on order, customer and vendor entities\n",
    "pairs = df[['order_id', 'customer_id', 'vendor_id', 'chain_id', 'city_id', 'target',\n",
    "            'total_value', 'discount_value', 'delivery_fee', 'user_latitude', 'user_longitude',\n",
    "            'date', 'week', 'day_of_week'] + list(HIST_FEATURES.keys())]\n",
    "\n",
    "vendor_data = (df[['vendor_id', 'chain_id', 'chain_name', 'ddk_flag',\n",
    "                  'vendor_latitude', 'vendor_longitude', 'online_payment', 'accepting_cash',\n",
    "                  'min_delivery_value', 'takeaway_support', 'citymobil_support',\n",
    "                  'default_product_group_id', 'product_group_ids', 'cuisine_ids', 'city_id']]\n",
    "               .drop_duplicates().reset_index(drop=True))\n",
    "\n",
    "# identify user coordinates by the most frequent (or the last) order\n",
    "customer_data = pairs.groupby(['customer_id', 'user_latitude', 'user_longitude'])['vendor_id'].count().reset_index()\n",
    "customer_data = customer_data.merge(\n",
    "    pairs.groupby(['customer_id', 'user_latitude', 'user_longitude'])['date'].max().reset_index())\n",
    "customer_data.sort_values(by=['customer_id', 'vendor_id', 'date'], inplace=True, ascending=False)\n",
    "customer_data = customer_data.groupby('customer_id')[['user_latitude', 'user_longitude']].first().reset_index()"
   ]
  },
  {
   "cell_type": "markdown",
   "metadata": {},
   "source": [
    "### Validation"
   ]
  },
  {
   "cell_type": "code",
   "execution_count": 16,
   "metadata": {},
   "outputs": [],
   "source": [
    "def split_by_folds(df):\n",
    "    # split data on train and validation\n",
    "    folds = {\n",
    "        'previous': df[df['week'] <= 3].index.tolist(),\n",
    "        'test': df[df['week'] >= 11].index.tolist()\n",
    "    }\n",
    "    \n",
    "    for fold_num, week in enumerate(range(4, 7)):\n",
    "        fold_train = df[(df['week'] >= week) & (df['week'] < (week + 4))]\n",
    "        folds[f'train_{fold_num + 1}'] = fold_train.index.tolist()\n",
    "        \n",
    "        fold_val = df[(df['week'] == (week + 4)) \n",
    "                      & (~df['chain_id'].isin(fastfoold_chains))] # remove fastfood from validation\n",
    "        \n",
    "        # remove train orders from validation\n",
    "        tmp = fold_train[['customer_id', 'chain_id']].drop_duplicates()\n",
    "        tmp['is_in_train'] = 1\n",
    "        fold_val = fold_val.merge(tmp, how='left')\n",
    "        fold_val = fold_val[fold_val['is_in_train'].isnull()].reset_index(drop=True)\n",
    "        \n",
    "        folds[f'val_{fold_num + 1}'] = fold_val.index.tolist()\n",
    "        \n",
    "    return folds"
   ]
  },
  {
   "cell_type": "code",
   "execution_count": 17,
   "metadata": {},
   "outputs": [],
   "source": [
    "def build_vendor_tree(df):\n",
    "    # bulld data structure for fast geo search\n",
    "    vendor_coords = df[['vendor_id', 'vendor_latitude', 'vendor_longitude']].drop_duplicates()\n",
    "    \n",
    "    tree = BallTree(np.radians(vendor_coords[['vendor_latitude', 'vendor_longitude']]), \n",
    "                    leaf_size=40, metric='haversine')\n",
    "    \n",
    "    return tree, vendor_coords"
   ]
  },
  {
   "cell_type": "code",
   "execution_count": 25,
   "metadata": {},
   "outputs": [],
   "source": [
    "def sample_zeros(tree, user_coords, vendor_coords, radius=5000, n_samples=50):\n",
    "    # sample zeros as vendor_ids within some radius\n",
    "    R = 6367000\n",
    "    ind, dist = tree.query_radius(np.radians(user_coords[['user_latitude', 'user_longitude']]), \n",
    "                                  r=radius/R, return_distance=True)\n",
    "    \n",
    "    zeros = []\n",
    "    vendor_coords_values = vendor_coords['vendor_id'].values\n",
    "    \n",
    "    for i, customer_id in enumerate(user_coords['customer_id']):\n",
    "        vendors = ind[i]\n",
    "        if n_samples:\n",
    "            vendors = np.random.choice(ind[i], size=min(len(vendors), n_samples), replace=False)\n",
    "        zeros += [(customer_id, vendor, 0) for vendor in vendor_coords_values[vendors]]\n",
    "        \n",
    "    return pd.DataFrame(zeros, columns=['customer_id', 'vendor_id', 'target'])"
   ]
  },
  {
   "cell_type": "code",
   "execution_count": 19,
   "metadata": {},
   "outputs": [],
   "source": [
    "def add_zeros_to_folds(fold, pairs_zeros):\n",
    "    \n",
    "    fold = pd.concat([fold, pairs_zeros[pairs_zeros['customer_id'].isin(fold['customer_id'])]], axis=0)\n",
    "    fold.drop_duplicates(subset=['customer_id', 'chain_id', 'target'], inplace=True)\n",
    "    fold = (fold.groupby(['customer_id', 'chain_id'])['target'].max().reset_index()\n",
    "            .merge(fold))\n",
    "    return fold"
   ]
  },
  {
   "cell_type": "code",
   "execution_count": 20,
   "metadata": {},
   "outputs": [],
   "source": [
    "tree, vendor_coords = build_vendor_tree(vendor_data)"
   ]
  },
  {
   "cell_type": "code",
   "execution_count": 26,
   "metadata": {},
   "outputs": [],
   "source": [
    "pairs_zeros_train = sample_zeros(tree, customer_data, vendor_coords)\n",
    "pairs_zeros_val = sample_zeros(tree, customer_data, vendor_coords, n_samples=None)"
   ]
  },
  {
   "cell_type": "code",
   "execution_count": 27,
   "metadata": {},
   "outputs": [],
   "source": [
    "# add source features to sampled zeros\n",
    "pairs_zeros_train = (pairs_zeros_train\n",
    "               .merge(customer_data)\n",
    "               .merge(vendor_data[['vendor_id', 'chain_id']].drop_duplicates()))\n",
    "\n",
    "pairs_zeros_val = (pairs_zeros_val\n",
    "               .merge(customer_data)\n",
    "               .merge(vendor_data[['vendor_id', 'chain_id']].drop_duplicates()))"
   ]
  },
  {
   "cell_type": "code",
   "execution_count": 28,
   "metadata": {},
   "outputs": [],
   "source": [
    "folds = split_by_folds(pairs)"
   ]
  },
  {
   "cell_type": "code",
   "execution_count": 35,
   "metadata": {},
   "outputs": [
    {
     "data": {
      "text/plain": [
       "dict_keys(['previous', 'test', 'train_1', 'val_1', 'train_2', 'val_2', 'train_3', 'val_3'])"
      ]
     },
     "execution_count": 35,
     "metadata": {},
     "output_type": "execute_result"
    }
   ],
   "source": [
    "folds.keys()"
   ]
  },
  {
   "cell_type": "code",
   "execution_count": null,
   "metadata": {},
   "outputs": [],
   "source": [
    "pairs_zeros_train.shape"
   ]
  },
  {
   "cell_type": "markdown",
   "metadata": {},
   "source": [
    "### Feature engineering"
   ]
  },
  {
   "cell_type": "code",
   "execution_count": 29,
   "metadata": {},
   "outputs": [],
   "source": [
    "def haversine(lat1, lon1, lat2, lon2):\n",
    "    lon1, lat1, lon2, lat2 = map(np.radians, [lon1, lat1, lon2, lat2])\n",
    "\n",
    "    dlon = lon2 - lon1\n",
    "    dlat = lat2 - lat1\n",
    "\n",
    "    a = np.sin(dlat/2.0)**2 + np.cos(lat1) * np.cos(lat2) * np.sin(dlon/2.0)**2\n",
    "\n",
    "    c = 2 * np.arcsin(np.sqrt(a))\n",
    "    km = 6367000 * c\n",
    "    return km"
   ]
  },
  {
   "cell_type": "code",
   "execution_count": 30,
   "metadata": {},
   "outputs": [],
   "source": [
    "def create_features(pairs, vendor_data, validation):\n",
    "    # add source features\n",
    "    pairs = pairs.merge(vendor_data, on=['chain_id', 'vendor_id'])\n",
    "    \n",
    "    # add crafted features\n",
    "    pairs['distance'] = haversine(pairs['user_latitude'], pairs['user_longitude'],\n",
    "                                  pairs['vendor_latitude'], pairs['vendor_longitude'])\n",
    "    \n",
    "    keys = list(HIST_FEATURES.keys())\n",
    "    if not validation:\n",
    "        pairs['rand'] = np.random.rand(pairs.shape[0])\n",
    "        pairs.sort_values('rand', inplace=True)\n",
    "        pairs[keys] = pairs.groupby(['customer_id'])[keys].apply(lambda x: x.ffill())\n",
    "        del pairs['rand']\n",
    "    else:\n",
    "        pairs.sort_values('date', inplace=True)\n",
    "        values = pairs.groupby(['customer_id'])[keys].first().reset_index()\n",
    "        for key in keys:\n",
    "            del pairs[key]\n",
    "        pairs = pairs.merge(values)\n",
    "    \n",
    "    pairs['distance'] = pairs['distance'].round(-2)\n",
    "    pairs['avg_total_value'] = pairs['avg_total_value'].round(-2)\n",
    "    pairs['min_delivery_value'] = pairs['min_delivery_value'].round(-3)\n",
    "    \n",
    "    # sort data for lambdamart\n",
    "    pairs.sort_values(by=['customer_id', 'chain_id', 'target'], inplace=True)\n",
    "    return pairs"
   ]
  },
  {
   "cell_type": "code",
   "execution_count": 31,
   "metadata": {},
   "outputs": [],
   "source": [
    "feats = [\n",
    "    # source features\n",
    "#     'user_latitude', 'user_longitude',\n",
    "#     'vendor_latitude', 'vendor_longitude', \n",
    "    'min_delivery_value', \n",
    "    'ddk_flag', 'online_payment', 'accepting_cash', \n",
    "    'takeaway_support', 'citymobil_support', \n",
    "    'default_product_group_id',\n",
    "    'city_id_y',\n",
    "    \n",
    "    # crafted features\n",
    "    'distance',\n",
    "    \n",
    "#     'chain_id'\n",
    "    \n",
    "    'most_frequent_default_product_group_id',\n",
    "    'avg_total_value'\n",
    "] "
   ]
  },
  {
   "cell_type": "markdown",
   "metadata": {},
   "source": [
    "### Train"
   ]
  },
  {
   "cell_type": "code",
   "execution_count": 32,
   "metadata": {},
   "outputs": [],
   "source": [
    "def prepare_fold(pairs, pairs_zeros, validation, distance=5000):\n",
    "    pairs = add_zeros_to_folds(pairs, pairs_zeros)\n",
    "    pairs = create_features(pairs, vendor_data, validation)\n",
    "    pairs = pairs[pairs.distance < distance]\n",
    "    pairs = pairs[pairs.groupby('customer_id').target.transform('sum') > 0]\n",
    "    return pairs"
   ]
  },
  {
   "cell_type": "code",
   "execution_count": 33,
   "metadata": {},
   "outputs": [],
   "source": [
    "# validate on fold 1\n",
    "tr1 = prepare_fold(pairs.loc[folds['train_1']], pairs_zeros_train, False)\n",
    "val1 = prepare_fold(pairs.loc[folds['val_1']], pairs_zeros_val, True)"
   ]
  },
  {
   "cell_type": "code",
   "execution_count": null,
   "metadata": {},
   "outputs": [],
   "source": []
  },
  {
   "cell_type": "code",
   "execution_count": 40,
   "metadata": {},
   "outputs": [],
   "source": [
    "lgb_params = {\n",
    "    'num_boost_round': 400,\n",
    "#     'early_stopping_round': 20,\n",
    "    'objective': 'lambdarank',\n",
    "    'metric': 'ndcg',\n",
    "    'eval_at': [15],\n",
    "    'verbosity': 1,\n",
    "#     'max_position': 15,\n",
    "    'lambdamart_norm': True,\n",
    "    'eta': 0.1,\n",
    "    'max_depth': 8,\n",
    "    'min_data_in_leaf': 30,\n",
    "    'subsample': 0.8,\n",
    "    'colsample_bytree': 0.7,\n",
    "    'scale_pos_weight': 1,\n",
    "    'seed': 42,\n",
    "    'nthread': 36\n",
    "}"
   ]
  },
  {
   "cell_type": "code",
   "execution_count": 36,
   "metadata": {},
   "outputs": [],
   "source": [
    "dtrain = lgb.Dataset(tr1[feats], label=tr1['target'],\n",
    "                     group=tr1.groupby('customer_id')['target'].count().values)\n",
    "dval = lgb.Dataset(val1[feats], label=val1['target'],\n",
    "                   group=val1.groupby('customer_id')['target'].count().values)"
   ]
  },
  {
   "cell_type": "code",
   "execution_count": 41,
   "metadata": {
    "scrolled": true
   },
   "outputs": [
    {
     "name": "stderr",
     "output_type": "stream",
     "text": [
      "/home/s.yarkin/venv3_upd/lib/python3.6/site-packages/lightgbm/engine.py:151: UserWarning: Found `num_boost_round` in params. Will use it instead of argument\n",
      "  warnings.warn(\"Found `{}` in params. Will use it instead of argument\".format(alias))\n"
     ]
    },
    {
     "name": "stdout",
     "output_type": "stream",
     "text": [
      "[LightGBM] [Warning] Unknown parameter: lambdamart_norm\n",
      "[LightGBM] [Warning] Accuracy may be bad since you didn't explicitly set num_leaves OR 2^max_depth > num_leaves. (num_leaves=31).\n",
      "[LightGBM] [Warning] Unknown parameter: lambdamart_norm\n",
      "[LightGBM] [Warning] Accuracy may be bad since you didn't explicitly set num_leaves OR 2^max_depth > num_leaves. (num_leaves=31).\n",
      "[LightGBM] [Warning] Unknown parameter: lambdamart_norm\n",
      "[LightGBM] [Warning] Accuracy may be bad since you didn't explicitly set num_leaves OR 2^max_depth > num_leaves. (num_leaves=31).\n",
      "[LightGBM] [Warning] Unknown parameter: lambdamart_norm\n",
      "[LightGBM] [Warning] Accuracy may be bad since you didn't explicitly set num_leaves OR 2^max_depth > num_leaves. (num_leaves=31).\n",
      "[LightGBM] [Warning] Unknown parameter: lambdamart_norm\n",
      "[LightGBM] [Warning] Accuracy may be bad since you didn't explicitly set num_leaves OR 2^max_depth > num_leaves. (num_leaves=31).\n",
      "[LightGBM] [Warning] Auto-choosing row-wise multi-threading, the overhead of testing was 0.178838 seconds.\n",
      "You can set `force_row_wise=true` to remove the overhead.\n",
      "And if memory is not enough, you can set `force_col_wise=true`.\n",
      "[LightGBM] [Info] Total Bins 315\n",
      "[LightGBM] [Info] Number of data points in the train set: 4481227, number of used features: 11\n",
      "[50]\ttraining's ndcg@15: 0.545655\tvalid_1's ndcg@15: 0.239279\n",
      "[100]\ttraining's ndcg@15: 0.556661\tvalid_1's ndcg@15: 0.254542\n",
      "[150]\ttraining's ndcg@15: 0.563678\tvalid_1's ndcg@15: 0.263133\n",
      "[200]\ttraining's ndcg@15: 0.568426\tvalid_1's ndcg@15: 0.268952\n",
      "[250]\ttraining's ndcg@15: 0.573464\tvalid_1's ndcg@15: 0.271616\n",
      "[300]\ttraining's ndcg@15: 0.57727\tvalid_1's ndcg@15: 0.27701\n",
      "[350]\ttraining's ndcg@15: 0.581029\tvalid_1's ndcg@15: 0.281222\n",
      "[400]\ttraining's ndcg@15: 0.583632\tvalid_1's ndcg@15: 0.28144\n"
     ]
    }
   ],
   "source": [
    "evals_res = {}\n",
    "model = lgb.train(lgb_params, dtrain, valid_sets=[dtrain, dval], evals_result=evals_res, verbose_eval=50)"
   ]
  },
  {
   "cell_type": "code",
   "execution_count": 42,
   "metadata": {},
   "outputs": [
    {
     "name": "stdout",
     "output_type": "stream",
     "text": [
      "mauc: 0.4995482959324475\n",
      "ndcg@1: 0.009820505591579739\n",
      "recall@1: 0.009820505591579739\n",
      "entropy_diversity_of_chain_id@1: 8.29054803948976\n",
      "entropy_diversity_of_default_product_group_id@1: 2.9179384033929914\n",
      "coverage_of_chain_id@1: 6582\n",
      "coverage_of_default_product_group_id@1: 37\n",
      "ndcg@5: 0.025400801614968462\n",
      "recall@5: 0.04173714876421388\n",
      "entropy_diversity_of_chain_id@5: 8.484110245292042\n",
      "entropy_diversity_of_default_product_group_id@5: 2.9205900069493436\n",
      "coverage_of_chain_id@5: 9537\n",
      "coverage_of_default_product_group_id@5: 37\n",
      "ndcg@15: 0.049562852008519814\n",
      "recall@15: 0.12271324750180122\n",
      "entropy_diversity_of_chain_id@15: 8.515307289763447\n",
      "entropy_diversity_of_default_product_group_id@15: 2.9183211340960606\n",
      "coverage_of_chain_id@15: 10813\n",
      "coverage_of_default_product_group_id@15: 37\n"
     ]
    }
   ],
   "source": [
    "# complete randomness\n",
    "val1['pred'] = np.random.rand(val1.shape[0])\n",
    "for metric in METRICS:\n",
    "    print(f'{metric.name}: {metric(val1)}')"
   ]
  },
  {
   "cell_type": "code",
   "execution_count": 43,
   "metadata": {},
   "outputs": [
    {
     "name": "stdout",
     "output_type": "stream",
     "text": [
      "mauc: 0.8708127723159377\n",
      "ndcg@1: 0.10285687435391411\n",
      "recall@1: 0.10285687435391411\n",
      "entropy_diversity_of_chain_id@1: 6.29889159481239\n",
      "entropy_diversity_of_default_product_group_id@1: 2.2530128226912125\n",
      "coverage_of_chain_id@1: 2828\n",
      "coverage_of_default_product_group_id@1: 34\n",
      "ndcg@5: 0.2087373357913679\n",
      "recall@5: 0.31055978448140836\n",
      "entropy_diversity_of_chain_id@5: 7.1454080502821675\n",
      "entropy_diversity_of_default_product_group_id@5: 2.4337924721496695\n",
      "coverage_of_chain_id@5: 6801\n",
      "coverage_of_default_product_group_id@5: 36\n",
      "ndcg@15: 0.279816793803788\n",
      "recall@15: 0.5429235974062588\n",
      "entropy_diversity_of_chain_id@15: 7.712216442754787\n",
      "entropy_diversity_of_default_product_group_id@15: 2.576069060674938\n",
      "coverage_of_chain_id@15: 9506\n",
      "coverage_of_default_product_group_id@15: 37\n"
     ]
    }
   ],
   "source": [
    "# model on few features \n",
    "val1['pred'] = model.predict(val1[feats])\n",
    "for metric in METRICS:\n",
    "    print(f'{metric.name}: {metric(val1)}')"
   ]
  },
  {
   "cell_type": "code",
   "execution_count": 44,
   "metadata": {},
   "outputs": [
    {
     "data": {
      "text/plain": [
       "<AxesSubplot:title={'center':'Feature importance'}, xlabel='Feature importance', ylabel='Features'>"
      ]
     },
     "execution_count": 44,
     "metadata": {},
     "output_type": "execute_result"
    },
    {
     "data": {
      "image/png": "[encoded data removed]",
      "text/plain": [
       "<Figure size 432x288 with 1 Axes>"
      ]
     },
     "metadata": {
      "needs_background": "light"
     },
     "output_type": "display_data"
    }
   ],
   "source": [
    "lgb.plot_importance(model)"
   ]
  },
  {
   "cell_type": "markdown",
   "metadata": {},
   "source": [
    "### ALS"
   ]
  },
  {
   "cell_type": "code",
   "execution_count": null,
   "metadata": {},
   "outputs": [],
   "source": [
    "params = {\n",
    "    'n_components': 100,\n",
    "    'bm25_params': {\n",
    "        'K1': 100,\n",
    "        'B': 0.8,\n",
    "    },\n",
    "    'seed': 42,\n",
    "    'scale': 100,\n",
    "    'num_threads': 2,\n",
    "    'num_iter': 10,\n",
    "    'regularization': 1\n",
    "}\n",
    "\n",
    "def create_item_user_matrix(df, params):\n",
    "    data = df[['customer_id', 'chain_id', 'target']].copy()\n",
    "    \n",
    "    unique_rows = list(np.unique(data['customer_id']).astype(np.int32))\n",
    "    unique_cols = list(np.unique(data['chain_id']).astype(np.int32))\n",
    "\n",
    "    row_map = dict(zip(unique_rows, range(len(unique_rows))))\n",
    "    col_map = dict(zip(unique_cols, range(len(unique_cols))))\n",
    "\n",
    "    data['customer_id'] = data['customer_id'].map(row_map)\n",
    "    data['chain_id'] = data['chain_id'].map(col_map)\n",
    "\n",
    "    matrix = csr_matrix((data['target'], [data['customer_id'], data['chain_id']]))\n",
    "    matrix = bm25_weight(matrix, **params['bm25_params']).T.tocsr() * params['scale']\n",
    "    \n",
    "    return matrix\n",
    "\n",
    "def compute_als_decomposition(matrix, params):\n",
    "    np.random.seed(params['seed'])\n",
    "    implicit_als = implicit.als.AlternatingLeastSquares(\n",
    "        params['n_components'], num_threads=params['num_threads'], iterations=params['num_iter'],\n",
    "        regularization=params['regularization']\n",
    "    )\n",
    "    implicit_als.fit(matrix)\n",
    "\n",
    "    return implicit_als"
   ]
  },
  {
   "cell_type": "code",
   "execution_count": null,
   "metadata": {},
   "outputs": [],
   "source": [
    "previous_fold = pairs.loc[folds['previous']].groupby(['customer_id', 'chain_id'])['target'].max().reset_index()\n",
    "prev_matrix = create_item_user_matrix(previous_fold, params)\n",
    "\n",
    "train_m, val_m = train_test_split(prev_matrix, 0.7)"
   ]
  },
  {
   "cell_type": "code",
   "execution_count": null,
   "metadata": {
    "scrolled": true
   },
   "outputs": [],
   "source": [
    "implicit_als = compute_als_decomposition(train_m, params)"
   ]
  },
  {
   "cell_type": "code",
   "execution_count": null,
   "metadata": {
    "scrolled": true
   },
   "outputs": [],
   "source": [
    "precision_at_k(implicit_als, train_m.T, val_m.T, K=15)"
   ]
  },
  {
   "cell_type": "code",
   "execution_count": null,
   "metadata": {},
   "outputs": [],
   "source": [
    "ndcg_at_k(implicit_als, train_m.T, val_m.T)"
   ]
  },
  {
   "cell_type": "code",
   "execution_count": null,
   "metadata": {},
   "outputs": [],
   "source": []
  }
 ],
 "metadata": {
  "kernelspec": {
   "display_name": "py3_upd",
   "language": "python",
   "name": "py3_upd"
  },
  "language_info": {
   "codemirror_mode": {
    "name": "ipython",
    "version": 3
   },
   "file_extension": ".py",
   "mimetype": "text/x-python",
   "name": "python",
   "nbconvert_exporter": "python",
   "pygments_lexer": "ipython3",
   "version": "3.6.8"
  }
 },
 "nbformat": 4,
 "nbformat_minor": 4
}
