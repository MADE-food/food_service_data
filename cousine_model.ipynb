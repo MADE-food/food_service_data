{
 "cells": [
  {
   "cell_type": "code",
   "execution_count": 39,
   "metadata": {},
   "outputs": [],
   "source": [
    "import pandas as pd\n",
    "import json\n",
    "import numpy as np"
   ]
  },
  {
   "cell_type": "code",
   "execution_count": 244,
   "metadata": {},
   "outputs": [],
   "source": [
    "data = pd.read_parquet('../data/data_made_restaurants.parquet')"
   ]
  },
  {
   "cell_type": "code",
   "execution_count": 245,
   "metadata": {},
   "outputs": [
    {
     "data": {
      "text/html": [
       "<div>\n",
       "<style scoped>\n",
       "    .dataframe tbody tr th:only-of-type {\n",
       "        vertical-align: middle;\n",
       "    }\n",
       "\n",
       "    .dataframe tbody tr th {\n",
       "        vertical-align: top;\n",
       "    }\n",
       "\n",
       "    .dataframe thead th {\n",
       "        text-align: right;\n",
       "    }\n",
       "</style>\n",
       "<table border=\"1\" class=\"dataframe\">\n",
       "  <thead>\n",
       "    <tr style=\"text-align: right;\">\n",
       "      <th></th>\n",
       "      <th>customer_id</th>\n",
       "      <th>order_id</th>\n",
       "      <th>user_latitude</th>\n",
       "      <th>user_longitude</th>\n",
       "      <th>date</th>\n",
       "      <th>city_id</th>\n",
       "      <th>chain_id</th>\n",
       "      <th>vendor_id</th>\n",
       "      <th>target</th>\n",
       "      <th>total_value</th>\n",
       "      <th>...</th>\n",
       "      <th>vendor_latitude</th>\n",
       "      <th>vendor_longitude</th>\n",
       "      <th>online_payment</th>\n",
       "      <th>accepting_cash</th>\n",
       "      <th>min_delivery_value</th>\n",
       "      <th>takeaway_support</th>\n",
       "      <th>citymobil_support</th>\n",
       "      <th>default_product_group_id</th>\n",
       "      <th>product_group_ids</th>\n",
       "      <th>cuisine_ids</th>\n",
       "    </tr>\n",
       "  </thead>\n",
       "  <tbody>\n",
       "    <tr>\n",
       "      <th>0</th>\n",
       "      <td>15955880</td>\n",
       "      <td>207845807</td>\n",
       "      <td>55.7815</td>\n",
       "      <td>37.5307</td>\n",
       "      <td>2020-08-01</td>\n",
       "      <td>1</td>\n",
       "      <td>140718</td>\n",
       "      <td>343852</td>\n",
       "      <td>1</td>\n",
       "      <td>575</td>\n",
       "      <td>...</td>\n",
       "      <td>55.778137</td>\n",
       "      <td>37.6024</td>\n",
       "      <td>1</td>\n",
       "      <td>0</td>\n",
       "      <td>1000</td>\n",
       "      <td>1</td>\n",
       "      <td>0</td>\n",
       "      <td>30.0</td>\n",
       "      <td>[30]</td>\n",
       "      <td>None</td>\n",
       "    </tr>\n",
       "    <tr>\n",
       "      <th>1</th>\n",
       "      <td>62512097</td>\n",
       "      <td>207855295</td>\n",
       "      <td>55.6472</td>\n",
       "      <td>37.4682</td>\n",
       "      <td>2020-08-01</td>\n",
       "      <td>1</td>\n",
       "      <td>140718</td>\n",
       "      <td>343852</td>\n",
       "      <td>1</td>\n",
       "      <td>1360</td>\n",
       "      <td>...</td>\n",
       "      <td>55.778137</td>\n",
       "      <td>37.6024</td>\n",
       "      <td>1</td>\n",
       "      <td>0</td>\n",
       "      <td>1000</td>\n",
       "      <td>1</td>\n",
       "      <td>0</td>\n",
       "      <td>30.0</td>\n",
       "      <td>[30]</td>\n",
       "      <td>None</td>\n",
       "    </tr>\n",
       "    <tr>\n",
       "      <th>2</th>\n",
       "      <td>64977556</td>\n",
       "      <td>207871966</td>\n",
       "      <td>55.8649</td>\n",
       "      <td>37.5014</td>\n",
       "      <td>2020-08-01</td>\n",
       "      <td>1</td>\n",
       "      <td>140718</td>\n",
       "      <td>343852</td>\n",
       "      <td>1</td>\n",
       "      <td>560</td>\n",
       "      <td>...</td>\n",
       "      <td>55.778137</td>\n",
       "      <td>37.6024</td>\n",
       "      <td>1</td>\n",
       "      <td>0</td>\n",
       "      <td>1000</td>\n",
       "      <td>1</td>\n",
       "      <td>0</td>\n",
       "      <td>30.0</td>\n",
       "      <td>[30]</td>\n",
       "      <td>None</td>\n",
       "    </tr>\n",
       "    <tr>\n",
       "      <th>3</th>\n",
       "      <td>81281415</td>\n",
       "      <td>207960541</td>\n",
       "      <td>55.8711</td>\n",
       "      <td>37.5105</td>\n",
       "      <td>2020-08-01</td>\n",
       "      <td>1</td>\n",
       "      <td>140718</td>\n",
       "      <td>343852</td>\n",
       "      <td>1</td>\n",
       "      <td>1130</td>\n",
       "      <td>...</td>\n",
       "      <td>55.778137</td>\n",
       "      <td>37.6024</td>\n",
       "      <td>1</td>\n",
       "      <td>0</td>\n",
       "      <td>1000</td>\n",
       "      <td>1</td>\n",
       "      <td>0</td>\n",
       "      <td>30.0</td>\n",
       "      <td>[30]</td>\n",
       "      <td>None</td>\n",
       "    </tr>\n",
       "    <tr>\n",
       "      <th>4</th>\n",
       "      <td>72045218</td>\n",
       "      <td>208028305</td>\n",
       "      <td>55.8166</td>\n",
       "      <td>37.5899</td>\n",
       "      <td>2020-08-01</td>\n",
       "      <td>1</td>\n",
       "      <td>140718</td>\n",
       "      <td>343852</td>\n",
       "      <td>1</td>\n",
       "      <td>745</td>\n",
       "      <td>...</td>\n",
       "      <td>55.778137</td>\n",
       "      <td>37.6024</td>\n",
       "      <td>1</td>\n",
       "      <td>0</td>\n",
       "      <td>1000</td>\n",
       "      <td>1</td>\n",
       "      <td>0</td>\n",
       "      <td>30.0</td>\n",
       "      <td>[30]</td>\n",
       "      <td>None</td>\n",
       "    </tr>\n",
       "  </tbody>\n",
       "</table>\n",
       "<p>5 rows × 24 columns</p>\n",
       "</div>"
      ],
      "text/plain": [
       "   customer_id   order_id  user_latitude  user_longitude        date  city_id  \\\n",
       "0     15955880  207845807        55.7815         37.5307  2020-08-01        1   \n",
       "1     62512097  207855295        55.6472         37.4682  2020-08-01        1   \n",
       "2     64977556  207871966        55.8649         37.5014  2020-08-01        1   \n",
       "3     81281415  207960541        55.8711         37.5105  2020-08-01        1   \n",
       "4     72045218  208028305        55.8166         37.5899  2020-08-01        1   \n",
       "\n",
       "   chain_id  vendor_id  target  total_value  ...  vendor_latitude  \\\n",
       "0    140718     343852       1          575  ...        55.778137   \n",
       "1    140718     343852       1         1360  ...        55.778137   \n",
       "2    140718     343852       1          560  ...        55.778137   \n",
       "3    140718     343852       1         1130  ...        55.778137   \n",
       "4    140718     343852       1          745  ...        55.778137   \n",
       "\n",
       "   vendor_longitude online_payment  accepting_cash  min_delivery_value  \\\n",
       "0           37.6024              1               0                1000   \n",
       "1           37.6024              1               0                1000   \n",
       "2           37.6024              1               0                1000   \n",
       "3           37.6024              1               0                1000   \n",
       "4           37.6024              1               0                1000   \n",
       "\n",
       "   takeaway_support  citymobil_support  default_product_group_id  \\\n",
       "0                 1                  0                      30.0   \n",
       "1                 1                  0                      30.0   \n",
       "2                 1                  0                      30.0   \n",
       "3                 1                  0                      30.0   \n",
       "4                 1                  0                      30.0   \n",
       "\n",
       "   product_group_ids  cuisine_ids  \n",
       "0               [30]         None  \n",
       "1               [30]         None  \n",
       "2               [30]         None  \n",
       "3               [30]         None  \n",
       "4               [30]         None  \n",
       "\n",
       "[5 rows x 24 columns]"
      ]
     },
     "execution_count": 245,
     "metadata": {},
     "output_type": "execute_result"
    }
   ],
   "source": [
    "data.head()"
   ]
  },
  {
   "cell_type": "code",
   "execution_count": 248,
   "metadata": {},
   "outputs": [],
   "source": [
    "data = data[['chain_id', 'cuisine_ids', 'product_group_ids']].drop_duplicates()"
   ]
  },
  {
   "cell_type": "code",
   "execution_count": 249,
   "metadata": {},
   "outputs": [],
   "source": [
    "data['products'] = data['product_group_ids'].apply(lambda x: json.loads(x) if x and pd.notna(x) else [])"
   ]
  },
  {
   "cell_type": "code",
   "execution_count": 250,
   "metadata": {},
   "outputs": [],
   "source": [
    "data['cuisines'] = data['cuisine_ids'].apply(lambda x: json.loads(x) if x and pd.notna(x) else [])"
   ]
  },
  {
   "cell_type": "code",
   "execution_count": 251,
   "metadata": {},
   "outputs": [],
   "source": [
    "data['products_len'] = data['products'].apply(lambda x: len(x))\n",
    "data['cuisines_len'] = data['cuisines'].apply(lambda x: len(x))"
   ]
  },
  {
   "cell_type": "markdown",
   "metadata": {},
   "source": [
    "# Для модели"
   ]
  },
  {
   "cell_type": "code",
   "execution_count": 252,
   "metadata": {},
   "outputs": [],
   "source": [
    "data_for_model = data[['cuisines', 'products', 'products_len', 'cuisines_len']]"
   ]
  },
  {
   "cell_type": "markdown",
   "metadata": {},
   "source": [
    "## Модель на продуктах"
   ]
  },
  {
   "cell_type": "code",
   "execution_count": 253,
   "metadata": {},
   "outputs": [],
   "source": [
    "from sklearn.model_selection import train_test_split\n",
    "from sklearn.linear_model import LogisticRegression\n",
    "from sklearn.ensemble import RandomForestClassifier"
   ]
  },
  {
   "cell_type": "code",
   "execution_count": 254,
   "metadata": {},
   "outputs": [],
   "source": [
    "#отбираем только те наблюдения, где есть продукты и кухни\n",
    "products_model_data = data_for_model.loc[(data_for_model['cuisines_len']>0) & (data_for_model['products_len']>0), ['cuisines', 'products']]"
   ]
  },
  {
   "cell_type": "code",
   "execution_count": 316,
   "metadata": {},
   "outputs": [],
   "source": [
    "# список кухонь и продуктов - пригодится\n",
    "unique_products = np.unique(np.concatenate(data['products'].values)).astype(int)\n",
    "unique_cuisines = np.unique(np.concatenate(data['cuisines'].values)).astype(int)"
   ]
  },
  {
   "cell_type": "code",
   "execution_count": 317,
   "metadata": {},
   "outputs": [
    {
     "data": {
      "text/plain": [
       "52"
      ]
     },
     "execution_count": 317,
     "metadata": {},
     "output_type": "execute_result"
    }
   ],
   "source": [
    "max(unique_products)"
   ]
  },
  {
   "cell_type": "code",
   "execution_count": 318,
   "metadata": {},
   "outputs": [
    {
     "data": {
      "text/html": [
       "<div>\n",
       "<style scoped>\n",
       "    .dataframe tbody tr th:only-of-type {\n",
       "        vertical-align: middle;\n",
       "    }\n",
       "\n",
       "    .dataframe tbody tr th {\n",
       "        vertical-align: top;\n",
       "    }\n",
       "\n",
       "    .dataframe thead th {\n",
       "        text-align: right;\n",
       "    }\n",
       "</style>\n",
       "<table border=\"1\" class=\"dataframe\">\n",
       "  <thead>\n",
       "    <tr style=\"text-align: right;\">\n",
       "      <th></th>\n",
       "      <th>cuisines</th>\n",
       "      <th>products</th>\n",
       "    </tr>\n",
       "  </thead>\n",
       "  <tbody>\n",
       "    <tr>\n",
       "      <th>1013</th>\n",
       "      <td>1</td>\n",
       "      <td>[1, 2, 18, 26]</td>\n",
       "    </tr>\n",
       "    <tr>\n",
       "      <th>1013</th>\n",
       "      <td>2</td>\n",
       "      <td>[1, 2, 18, 26]</td>\n",
       "    </tr>\n",
       "    <tr>\n",
       "      <th>1013</th>\n",
       "      <td>3</td>\n",
       "      <td>[1, 2, 18, 26]</td>\n",
       "    </tr>\n",
       "    <tr>\n",
       "      <th>1013</th>\n",
       "      <td>5</td>\n",
       "      <td>[1, 2, 18, 26]</td>\n",
       "    </tr>\n",
       "    <tr>\n",
       "      <th>3939</th>\n",
       "      <td>1</td>\n",
       "      <td>[1, 2, 18]</td>\n",
       "    </tr>\n",
       "  </tbody>\n",
       "</table>\n",
       "</div>"
      ],
      "text/plain": [
       "     cuisines        products\n",
       "1013        1  [1, 2, 18, 26]\n",
       "1013        2  [1, 2, 18, 26]\n",
       "1013        3  [1, 2, 18, 26]\n",
       "1013        5  [1, 2, 18, 26]\n",
       "3939        1      [1, 2, 18]"
      ]
     },
     "execution_count": 318,
     "metadata": {},
     "output_type": "execute_result"
    }
   ],
   "source": [
    "# разворачиваем кухни в строки\n",
    "cuisine_to_products = products_model_data.explode('cuisines')\n",
    "cuisine_to_products.head()"
   ]
  },
  {
   "cell_type": "code",
   "execution_count": 319,
   "metadata": {},
   "outputs": [],
   "source": [
    "def preprocess_data(df):\n",
    "    def array_to_sparse(arr):\n",
    "        result = np.zeros(max(unique_products)+1, dtype=int)\n",
    "        result[arr]=1\n",
    "        return result\n",
    "    \n",
    "    return np.stack( df['products'].apply(array_to_sparse))"
   ]
  },
  {
   "cell_type": "code",
   "execution_count": 320,
   "metadata": {},
   "outputs": [],
   "source": [
    "X = preprocess_data(cuisine_to_products)"
   ]
  },
  {
   "cell_type": "code",
   "execution_count": 321,
   "metadata": {},
   "outputs": [],
   "source": [
    "y = cuisine_to_products['cuisines'].astype(int).values"
   ]
  },
  {
   "cell_type": "code",
   "execution_count": 322,
   "metadata": {},
   "outputs": [],
   "source": [
    "## Базовый RF"
   ]
  },
  {
   "cell_type": "code",
   "execution_count": 323,
   "metadata": {},
   "outputs": [],
   "source": [
    "X_train, X_test, y_train, y_test = train_test_split(X,y)"
   ]
  },
  {
   "cell_type": "code",
   "execution_count": 324,
   "metadata": {},
   "outputs": [
    {
     "name": "stderr",
     "output_type": "stream",
     "text": [
      "c:\\users\\xiaomi\\appdata\\local\\programs\\python\\python37\\lib\\site-packages\\sklearn\\ensemble\\forest.py:245: FutureWarning: The default value of n_estimators will change from 10 in version 0.20 to 100 in 0.22.\n",
      "  \"10 in version 0.20 to 100 in 0.22.\", FutureWarning)\n"
     ]
    },
    {
     "data": {
      "text/plain": [
       "RandomForestClassifier(bootstrap=True, class_weight=None, criterion='gini',\n",
       "                       max_depth=None, max_features='auto', max_leaf_nodes=None,\n",
       "                       min_impurity_decrease=0.0, min_impurity_split=None,\n",
       "                       min_samples_leaf=1, min_samples_split=2,\n",
       "                       min_weight_fraction_leaf=0.0, n_estimators=10,\n",
       "                       n_jobs=None, oob_score=False, random_state=None,\n",
       "                       verbose=0, warm_start=False)"
      ]
     },
     "execution_count": 324,
     "metadata": {},
     "output_type": "execute_result"
    }
   ],
   "source": [
    "rf = RandomForestClassifier()\n",
    "rf.fit(X_train, y_train)"
   ]
  },
  {
   "cell_type": "code",
   "execution_count": 325,
   "metadata": {},
   "outputs": [],
   "source": [
    "predicted_probas = rf.predict_proba(X_test)\n",
    "predicted = rf.predict(X_test)"
   ]
  },
  {
   "cell_type": "code",
   "execution_count": 326,
   "metadata": {},
   "outputs": [],
   "source": [
    "def predictions_to_cuicins(pred_proba, th=0.2):\n",
    "    t = pred_proba>th\n",
    "    return np.where(t == True)[0]+1"
   ]
  },
  {
   "cell_type": "code",
   "execution_count": 327,
   "metadata": {},
   "outputs": [],
   "source": [
    "cuisins_predicted = list()\n",
    "for p in predicted_probas:\n",
    "    cuisins_predicted.append(predictions_to_cuicins(p, 0.1))"
   ]
  },
  {
   "cell_type": "code",
   "execution_count": 328,
   "metadata": {},
   "outputs": [
    {
     "name": "stdout",
     "output_type": "stream",
     "text": [
      "Настоящая кухня есть в списке предсказанных, доля:\n"
     ]
    },
    {
     "data": {
      "text/plain": [
       "0.7482758620689656"
      ]
     },
     "execution_count": 328,
     "metadata": {},
     "output_type": "execute_result"
    }
   ],
   "source": [
    "print('Настоящая кухня есть в списке предсказанных, доля:')\n",
    "np.mean([c in cp for cp, c in zip(cuisins_predicted, y_test)])"
   ]
  },
  {
   "cell_type": "markdown",
   "metadata": {},
   "source": [
    "# Предсказываю на полном датасете"
   ]
  },
  {
   "cell_type": "code",
   "execution_count": 333,
   "metadata": {},
   "outputs": [],
   "source": [
    "X_full = preprocess_data(data)"
   ]
  },
  {
   "cell_type": "code",
   "execution_count": 334,
   "metadata": {},
   "outputs": [],
   "source": [
    "full_predict_probas = rf.predict_proba(X_full)"
   ]
  },
  {
   "cell_type": "code",
   "execution_count": 335,
   "metadata": {},
   "outputs": [],
   "source": [
    "full_cuisins_predicted = list()\n",
    "for p in full_predict_probas:\n",
    "    full_cuisins_predicted.append(predictions_to_cuicins(p, 0.1))"
   ]
  },
  {
   "cell_type": "code",
   "execution_count": 337,
   "metadata": {},
   "outputs": [],
   "source": [
    "data['cuisines_predicted'] = full_cuisins_predicted"
   ]
  },
  {
   "cell_type": "code",
   "execution_count": 339,
   "metadata": {},
   "outputs": [
    {
     "data": {
      "text/html": [
       "<div>\n",
       "<style scoped>\n",
       "    .dataframe tbody tr th:only-of-type {\n",
       "        vertical-align: middle;\n",
       "    }\n",
       "\n",
       "    .dataframe tbody tr th {\n",
       "        vertical-align: top;\n",
       "    }\n",
       "\n",
       "    .dataframe thead th {\n",
       "        text-align: right;\n",
       "    }\n",
       "</style>\n",
       "<table border=\"1\" class=\"dataframe\">\n",
       "  <thead>\n",
       "    <tr style=\"text-align: right;\">\n",
       "      <th></th>\n",
       "      <th>chain_id</th>\n",
       "      <th>cuisine_ids</th>\n",
       "      <th>product_group_ids</th>\n",
       "      <th>products</th>\n",
       "      <th>cuisines</th>\n",
       "      <th>products_len</th>\n",
       "      <th>cuisines_len</th>\n",
       "      <th>cuisines_predicted</th>\n",
       "    </tr>\n",
       "  </thead>\n",
       "  <tbody>\n",
       "    <tr>\n",
       "      <th>1013</th>\n",
       "      <td>52874</td>\n",
       "      <td>[1, 2, 3, 5]</td>\n",
       "      <td>[1, 2, 18, 26]</td>\n",
       "      <td>[1, 2, 18, 26]</td>\n",
       "      <td>[1, 2, 3, 5]</td>\n",
       "      <td>4</td>\n",
       "      <td>4</td>\n",
       "      <td>[1, 2, 3, 5]</td>\n",
       "    </tr>\n",
       "    <tr>\n",
       "      <th>3939</th>\n",
       "      <td>109886</td>\n",
       "      <td>[1, 2]</td>\n",
       "      <td>[1, 2, 18]</td>\n",
       "      <td>[1, 2, 18]</td>\n",
       "      <td>[1, 2]</td>\n",
       "      <td>3</td>\n",
       "      <td>2</td>\n",
       "      <td>[1, 2]</td>\n",
       "    </tr>\n",
       "    <tr>\n",
       "      <th>4185</th>\n",
       "      <td>106646</td>\n",
       "      <td>[1, 2]</td>\n",
       "      <td>[1, 2, 23]</td>\n",
       "      <td>[1, 2, 23]</td>\n",
       "      <td>[1, 2]</td>\n",
       "      <td>3</td>\n",
       "      <td>2</td>\n",
       "      <td>[1, 2, 5]</td>\n",
       "    </tr>\n",
       "    <tr>\n",
       "      <th>4187</th>\n",
       "      <td>29982</td>\n",
       "      <td>[1]</td>\n",
       "      <td>[1, 23]</td>\n",
       "      <td>[1, 23]</td>\n",
       "      <td>[1]</td>\n",
       "      <td>2</td>\n",
       "      <td>1</td>\n",
       "      <td>[1]</td>\n",
       "    </tr>\n",
       "    <tr>\n",
       "      <th>4440</th>\n",
       "      <td>17802</td>\n",
       "      <td>[1, 2]</td>\n",
       "      <td>[2, 23, 26]</td>\n",
       "      <td>[2, 23, 26]</td>\n",
       "      <td>[1, 2]</td>\n",
       "      <td>3</td>\n",
       "      <td>2</td>\n",
       "      <td>[1, 2]</td>\n",
       "    </tr>\n",
       "    <tr>\n",
       "      <th>...</th>\n",
       "      <td>...</td>\n",
       "      <td>...</td>\n",
       "      <td>...</td>\n",
       "      <td>...</td>\n",
       "      <td>...</td>\n",
       "      <td>...</td>\n",
       "      <td>...</td>\n",
       "      <td>...</td>\n",
       "    </tr>\n",
       "    <tr>\n",
       "      <th>2778726</th>\n",
       "      <td>109014</td>\n",
       "      <td>[3]</td>\n",
       "      <td>[43]</td>\n",
       "      <td>[43]</td>\n",
       "      <td>[3]</td>\n",
       "      <td>1</td>\n",
       "      <td>1</td>\n",
       "      <td>[3, 4]</td>\n",
       "    </tr>\n",
       "    <tr>\n",
       "      <th>2778727</th>\n",
       "      <td>100226</td>\n",
       "      <td>[3]</td>\n",
       "      <td>[20, 24, 25, 43, 51]</td>\n",
       "      <td>[20, 24, 25, 43, 51]</td>\n",
       "      <td>[3]</td>\n",
       "      <td>5</td>\n",
       "      <td>1</td>\n",
       "      <td>[3]</td>\n",
       "    </tr>\n",
       "    <tr>\n",
       "      <th>2778968</th>\n",
       "      <td>109198</td>\n",
       "      <td>[5]</td>\n",
       "      <td>[6, 26]</td>\n",
       "      <td>[6, 26]</td>\n",
       "      <td>[5]</td>\n",
       "      <td>2</td>\n",
       "      <td>1</td>\n",
       "      <td>[5]</td>\n",
       "    </tr>\n",
       "    <tr>\n",
       "      <th>2779307</th>\n",
       "      <td>67862</td>\n",
       "      <td>[1, 3, 4]</td>\n",
       "      <td>[1, 3, 51]</td>\n",
       "      <td>[1, 3, 51]</td>\n",
       "      <td>[1, 3, 4]</td>\n",
       "      <td>3</td>\n",
       "      <td>3</td>\n",
       "      <td>[1, 3, 4]</td>\n",
       "    </tr>\n",
       "    <tr>\n",
       "      <th>2780394</th>\n",
       "      <td>104058</td>\n",
       "      <td>[1]</td>\n",
       "      <td>[1, 23, 42]</td>\n",
       "      <td>[1, 23, 42]</td>\n",
       "      <td>[1]</td>\n",
       "      <td>3</td>\n",
       "      <td>1</td>\n",
       "      <td>[1]</td>\n",
       "    </tr>\n",
       "  </tbody>\n",
       "</table>\n",
       "<p>2095 rows × 8 columns</p>\n",
       "</div>"
      ],
      "text/plain": [
       "         chain_id   cuisine_ids     product_group_ids              products  \\\n",
       "1013        52874  [1, 2, 3, 5]        [1, 2, 18, 26]        [1, 2, 18, 26]   \n",
       "3939       109886        [1, 2]            [1, 2, 18]            [1, 2, 18]   \n",
       "4185       106646        [1, 2]            [1, 2, 23]            [1, 2, 23]   \n",
       "4187        29982           [1]               [1, 23]               [1, 23]   \n",
       "4440        17802        [1, 2]           [2, 23, 26]           [2, 23, 26]   \n",
       "...           ...           ...                   ...                   ...   \n",
       "2778726    109014           [3]                  [43]                  [43]   \n",
       "2778727    100226           [3]  [20, 24, 25, 43, 51]  [20, 24, 25, 43, 51]   \n",
       "2778968    109198           [5]               [6, 26]               [6, 26]   \n",
       "2779307     67862     [1, 3, 4]            [1, 3, 51]            [1, 3, 51]   \n",
       "2780394    104058           [1]           [1, 23, 42]           [1, 23, 42]   \n",
       "\n",
       "             cuisines  products_len  cuisines_len cuisines_predicted  \n",
       "1013     [1, 2, 3, 5]             4             4       [1, 2, 3, 5]  \n",
       "3939           [1, 2]             3             2             [1, 2]  \n",
       "4185           [1, 2]             3             2          [1, 2, 5]  \n",
       "4187              [1]             2             1                [1]  \n",
       "4440           [1, 2]             3             2             [1, 2]  \n",
       "...               ...           ...           ...                ...  \n",
       "2778726           [3]             1             1             [3, 4]  \n",
       "2778727           [3]             5             1                [3]  \n",
       "2778968           [5]             2             1                [5]  \n",
       "2779307     [1, 3, 4]             3             3          [1, 3, 4]  \n",
       "2780394           [1]             3             1                [1]  \n",
       "\n",
       "[2095 rows x 8 columns]"
      ]
     },
     "execution_count": 339,
     "metadata": {},
     "output_type": "execute_result"
    }
   ],
   "source": [
    "data[data['cuisines_len']>0]"
   ]
  },
  {
   "cell_type": "code",
   "execution_count": 340,
   "metadata": {},
   "outputs": [],
   "source": [
    "data.to_csv('chain_cuisines_restored.csv')"
   ]
  }
 ],
 "metadata": {
  "kernelspec": {
   "display_name": "Python 3",
   "language": "python",
   "name": "python3"
  },
  "language_info": {
   "codemirror_mode": {
    "name": "ipython",
    "version": 3
   },
   "file_extension": ".py",
   "mimetype": "text/x-python",
   "name": "python",
   "nbconvert_exporter": "python",
   "pygments_lexer": "ipython3",
   "version": "3.7.4"
  }
 },
 "nbformat": 4,
 "nbformat_minor": 2
}
