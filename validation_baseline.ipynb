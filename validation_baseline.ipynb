{
 "cells": [
  {
   "cell_type": "code",
   "execution_count": 1,
   "metadata": {},
   "outputs": [],
   "source": [
    "import os\n",
    "\n",
    "os.environ['OPENBLAS_NUM_THREADS'] = '1'\n",
    "os.environ[\"OMP_NUM_THREADS\"] = '1'\n",
    "os.environ[\"MKL_NUM_THREADS\"] = '1'\n",
    "os.environ[\"VECLIB_MAXIMUM_THREADS\"] = '1'\n",
    "os.environ[\"NUMEXPR_NUM_THREADS\"] = '1'"
   ]
  },
  {
   "cell_type": "code",
   "execution_count": 2,
   "metadata": {},
   "outputs": [],
   "source": [
    "import pandas as pd\n",
    "import numpy as np\n",
    "import implicit\n",
    "import matplotlib.pyplot as plt\n",
    "\n",
    "\n",
    "from implicit.nearest_neighbours import bm25_weight\n",
    "from scipy.sparse import csr_matrix\n",
    "from implicit.evaluation import train_test_split, ndcg_at_k, precision_at_k\n",
    "\n",
    "%matplotlib inline"
   ]
  },
  {
   "cell_type": "code",
   "execution_count": 3,
   "metadata": {},
   "outputs": [],
   "source": [
    "df = pd.read_csv('data_made_restaurants.csv', )"
   ]
  },
  {
   "cell_type": "code",
   "execution_count": 4,
   "metadata": {},
   "outputs": [],
   "source": [
    "df.drop(columns=['Unnamed: 0'], inplace=True)\n",
    "df = df[df['customer_id'] != -10].reset_index(drop=True)"
   ]
  },
  {
   "cell_type": "code",
   "execution_count": 5,
   "metadata": {},
   "outputs": [
    {
     "data": {
      "text/html": [
       "<div>\n",
       "<style scoped>\n",
       "    .dataframe tbody tr th:only-of-type {\n",
       "        vertical-align: middle;\n",
       "    }\n",
       "\n",
       "    .dataframe tbody tr th {\n",
       "        vertical-align: top;\n",
       "    }\n",
       "\n",
       "    .dataframe thead th {\n",
       "        text-align: right;\n",
       "    }\n",
       "</style>\n",
       "<table border=\"1\" class=\"dataframe\">\n",
       "  <thead>\n",
       "    <tr style=\"text-align: right;\">\n",
       "      <th></th>\n",
       "      <th>customer_id</th>\n",
       "      <th>order_id</th>\n",
       "      <th>user_latitude</th>\n",
       "      <th>user_longitude</th>\n",
       "      <th>date</th>\n",
       "      <th>city_id</th>\n",
       "      <th>chain_id</th>\n",
       "      <th>vendor_id</th>\n",
       "      <th>target</th>\n",
       "      <th>total_value</th>\n",
       "      <th>...</th>\n",
       "      <th>vendor_latitude</th>\n",
       "      <th>vendor_longitude</th>\n",
       "      <th>online_payment</th>\n",
       "      <th>accepting_cash</th>\n",
       "      <th>min_delivery_value</th>\n",
       "      <th>takeaway_support</th>\n",
       "      <th>citymobil_support</th>\n",
       "      <th>default_product_group_id</th>\n",
       "      <th>product_group_ids</th>\n",
       "      <th>cuisine_ids</th>\n",
       "    </tr>\n",
       "  </thead>\n",
       "  <tbody>\n",
       "    <tr>\n",
       "      <th>0</th>\n",
       "      <td>15955880</td>\n",
       "      <td>207845807</td>\n",
       "      <td>55.7815</td>\n",
       "      <td>37.5307</td>\n",
       "      <td>2020-08-01</td>\n",
       "      <td>1</td>\n",
       "      <td>140718</td>\n",
       "      <td>343852</td>\n",
       "      <td>1</td>\n",
       "      <td>575</td>\n",
       "      <td>...</td>\n",
       "      <td>55.778137</td>\n",
       "      <td>37.6024</td>\n",
       "      <td>1</td>\n",
       "      <td>0</td>\n",
       "      <td>1000</td>\n",
       "      <td>1</td>\n",
       "      <td>0</td>\n",
       "      <td>30.0</td>\n",
       "      <td>[30]</td>\n",
       "      <td>NaN</td>\n",
       "    </tr>\n",
       "    <tr>\n",
       "      <th>1</th>\n",
       "      <td>62512097</td>\n",
       "      <td>207855295</td>\n",
       "      <td>55.6472</td>\n",
       "      <td>37.4682</td>\n",
       "      <td>2020-08-01</td>\n",
       "      <td>1</td>\n",
       "      <td>140718</td>\n",
       "      <td>343852</td>\n",
       "      <td>1</td>\n",
       "      <td>1360</td>\n",
       "      <td>...</td>\n",
       "      <td>55.778137</td>\n",
       "      <td>37.6024</td>\n",
       "      <td>1</td>\n",
       "      <td>0</td>\n",
       "      <td>1000</td>\n",
       "      <td>1</td>\n",
       "      <td>0</td>\n",
       "      <td>30.0</td>\n",
       "      <td>[30]</td>\n",
       "      <td>NaN</td>\n",
       "    </tr>\n",
       "    <tr>\n",
       "      <th>2</th>\n",
       "      <td>64977556</td>\n",
       "      <td>207871966</td>\n",
       "      <td>55.8649</td>\n",
       "      <td>37.5014</td>\n",
       "      <td>2020-08-01</td>\n",
       "      <td>1</td>\n",
       "      <td>140718</td>\n",
       "      <td>343852</td>\n",
       "      <td>1</td>\n",
       "      <td>560</td>\n",
       "      <td>...</td>\n",
       "      <td>55.778137</td>\n",
       "      <td>37.6024</td>\n",
       "      <td>1</td>\n",
       "      <td>0</td>\n",
       "      <td>1000</td>\n",
       "      <td>1</td>\n",
       "      <td>0</td>\n",
       "      <td>30.0</td>\n",
       "      <td>[30]</td>\n",
       "      <td>NaN</td>\n",
       "    </tr>\n",
       "    <tr>\n",
       "      <th>3</th>\n",
       "      <td>81281415</td>\n",
       "      <td>207960541</td>\n",
       "      <td>55.8711</td>\n",
       "      <td>37.5105</td>\n",
       "      <td>2020-08-01</td>\n",
       "      <td>1</td>\n",
       "      <td>140718</td>\n",
       "      <td>343852</td>\n",
       "      <td>1</td>\n",
       "      <td>1130</td>\n",
       "      <td>...</td>\n",
       "      <td>55.778137</td>\n",
       "      <td>37.6024</td>\n",
       "      <td>1</td>\n",
       "      <td>0</td>\n",
       "      <td>1000</td>\n",
       "      <td>1</td>\n",
       "      <td>0</td>\n",
       "      <td>30.0</td>\n",
       "      <td>[30]</td>\n",
       "      <td>NaN</td>\n",
       "    </tr>\n",
       "    <tr>\n",
       "      <th>4</th>\n",
       "      <td>72045218</td>\n",
       "      <td>208028305</td>\n",
       "      <td>55.8166</td>\n",
       "      <td>37.5899</td>\n",
       "      <td>2020-08-01</td>\n",
       "      <td>1</td>\n",
       "      <td>140718</td>\n",
       "      <td>343852</td>\n",
       "      <td>1</td>\n",
       "      <td>745</td>\n",
       "      <td>...</td>\n",
       "      <td>55.778137</td>\n",
       "      <td>37.6024</td>\n",
       "      <td>1</td>\n",
       "      <td>0</td>\n",
       "      <td>1000</td>\n",
       "      <td>1</td>\n",
       "      <td>0</td>\n",
       "      <td>30.0</td>\n",
       "      <td>[30]</td>\n",
       "      <td>NaN</td>\n",
       "    </tr>\n",
       "  </tbody>\n",
       "</table>\n",
       "<p>5 rows × 24 columns</p>\n",
       "</div>"
      ],
      "text/plain": [
       "   customer_id   order_id  user_latitude  user_longitude        date  city_id  \\\n",
       "0     15955880  207845807        55.7815         37.5307  2020-08-01        1   \n",
       "1     62512097  207855295        55.6472         37.4682  2020-08-01        1   \n",
       "2     64977556  207871966        55.8649         37.5014  2020-08-01        1   \n",
       "3     81281415  207960541        55.8711         37.5105  2020-08-01        1   \n",
       "4     72045218  208028305        55.8166         37.5899  2020-08-01        1   \n",
       "\n",
       "   chain_id  vendor_id  target  total_value  ...  vendor_latitude  \\\n",
       "0    140718     343852       1          575  ...        55.778137   \n",
       "1    140718     343852       1         1360  ...        55.778137   \n",
       "2    140718     343852       1          560  ...        55.778137   \n",
       "3    140718     343852       1         1130  ...        55.778137   \n",
       "4    140718     343852       1          745  ...        55.778137   \n",
       "\n",
       "   vendor_longitude online_payment  accepting_cash  min_delivery_value  \\\n",
       "0           37.6024              1               0                1000   \n",
       "1           37.6024              1               0                1000   \n",
       "2           37.6024              1               0                1000   \n",
       "3           37.6024              1               0                1000   \n",
       "4           37.6024              1               0                1000   \n",
       "\n",
       "   takeaway_support  citymobil_support  default_product_group_id  \\\n",
       "0                 1                  0                      30.0   \n",
       "1                 1                  0                      30.0   \n",
       "2                 1                  0                      30.0   \n",
       "3                 1                  0                      30.0   \n",
       "4                 1                  0                      30.0   \n",
       "\n",
       "   product_group_ids  cuisine_ids  \n",
       "0               [30]          NaN  \n",
       "1               [30]          NaN  \n",
       "2               [30]          NaN  \n",
       "3               [30]          NaN  \n",
       "4               [30]          NaN  \n",
       "\n",
       "[5 rows x 24 columns]"
      ]
     },
     "execution_count": 5,
     "metadata": {},
     "output_type": "execute_result"
    }
   ],
   "source": [
    "df.head()"
   ]
  },
  {
   "cell_type": "code",
   "execution_count": 6,
   "metadata": {},
   "outputs": [],
   "source": [
    "df['date'] = pd.to_datetime(df['date'])\n",
    "df['week'] = (df['date'] - df['date'].min()).dt.days // 7\n",
    "df['day_of_week'] = df['date'].dt.dayofweek"
   ]
  },
  {
   "cell_type": "code",
   "execution_count": 7,
   "metadata": {},
   "outputs": [],
   "source": [
    "def split_by_folds(df):\n",
    "    folds = {\n",
    "        'previous': df[df['week'] <= 3].index.tolist(),\n",
    "        'test': df[df['week'] >= 11].index.tolist()\n",
    "    }\n",
    "    \n",
    "    for fold_num, week in enumerate(range(4, 7)):\n",
    "        fold_train = df[(df['week'] >= week) & (df['week'] < week + 4)]\n",
    "        folds[f'train_{fold_num + 1}'] = fold_train.index.tolist()\n",
    "        \n",
    "        fold_val = df[(df['week'] == week + 4) \n",
    "                      & (~df['customer_id'].isin(fold_train['customer_id']))] # exclude train customers?\n",
    "        folds[f'val_{fold_num + 1}'] = fold_val.index.tolist()\n",
    "        \n",
    "    return folds"
   ]
  },
  {
   "cell_type": "code",
   "execution_count": 8,
   "metadata": {},
   "outputs": [],
   "source": [
    "folds = split_by_folds(df)"
   ]
  },
  {
   "cell_type": "code",
   "execution_count": 22,
   "metadata": {},
   "outputs": [],
   "source": [
    "params = {\n",
    "    'n_components': 100,\n",
    "    'bm25_params': {\n",
    "        'K1': 100,\n",
    "        'B': 0.8,\n",
    "    },\n",
    "    'seed': 42,\n",
    "    'scale': 100,\n",
    "    'num_threads': 2,\n",
    "    'num_iter': 10,\n",
    "    'regularization': 1\n",
    "}\n",
    "\n",
    "def create_item_user_matrix(df, params):\n",
    "    data = df[['customer_id', 'chain_id', 'target']].copy()\n",
    "    \n",
    "    unique_rows = list(np.unique(data['customer_id']).astype(np.int32))\n",
    "    unique_cols = list(np.unique(data['chain_id']).astype(np.int32))\n",
    "\n",
    "    row_map = dict(zip(unique_rows, range(len(unique_rows))))\n",
    "    col_map = dict(zip(unique_cols, range(len(unique_cols))))\n",
    "\n",
    "    data['customer_id'] = data['customer_id'].map(row_map)\n",
    "    data['chain_id'] = data['chain_id'].map(col_map)\n",
    "\n",
    "    matrix = csr_matrix((data['target'], [data['customer_id'], data['chain_id']]))\n",
    "    matrix = bm25_weight(matrix, **params['bm25_params']).T.tocsr() * params['scale']\n",
    "    \n",
    "    return matrix\n",
    "\n",
    "def compute_als_decomposition(matrix, params):\n",
    "    np.random.seed(params['seed'])\n",
    "    implicit_als = implicit.als.AlternatingLeastSquares(\n",
    "        params['n_components'], num_threads=params['num_threads'], iterations=params['num_iter'],\n",
    "        regularization=params['regularization']\n",
    "    )\n",
    "    implicit_als.fit(matrix)\n",
    "\n",
    "    return implicit_als"
   ]
  },
  {
   "cell_type": "code",
   "execution_count": 23,
   "metadata": {},
   "outputs": [],
   "source": [
    "prev_df = df.loc[folds['previous']].groupby(['customer_id', 'chain_id'])['target'].max().reset_index()\n",
    "prev_matrix = create_item_user_matrix(prev_df, params)\n",
    "\n",
    "train_m, val_m = train_test_split(prev_matrix, 0.7)"
   ]
  },
  {
   "cell_type": "code",
   "execution_count": 16,
   "metadata": {
    "scrolled": true
   },
   "outputs": [
    {
     "data": {
      "application/vnd.jupyter.widget-view+json": {
       "model_id": "3686da830bd341a9b3ef98ed172adf3e",
       "version_major": 2,
       "version_minor": 0
      },
      "text/plain": [
       "HBox(children=(HTML(value=''), FloatProgress(value=0.0, max=15.0), HTML(value='')))"
      ]
     },
     "metadata": {},
     "output_type": "display_data"
    },
    {
     "name": "stdout",
     "output_type": "stream",
     "text": [
      "\n"
     ]
    }
   ],
   "source": [
    "implicit_als = compute_als_decomposition(train_m, params)"
   ]
  },
  {
   "cell_type": "code",
   "execution_count": 28,
   "metadata": {
    "scrolled": true
   },
   "outputs": [
    {
     "data": {
      "application/vnd.jupyter.widget-view+json": {
       "model_id": "96024237e7be46da8197b84f0d7248fd",
       "version_major": 2,
       "version_minor": 0
      },
      "text/plain": [
       "HBox(children=(HTML(value=''), FloatProgress(value=0.0, max=583036.0), HTML(value='')))"
      ]
     },
     "metadata": {},
     "output_type": "display_data"
    },
    {
     "name": "stdout",
     "output_type": "stream",
     "text": [
      "\n"
     ]
    },
    {
     "data": {
      "text/plain": [
       "0.08738984933288518"
      ]
     },
     "execution_count": 28,
     "metadata": {},
     "output_type": "execute_result"
    }
   ],
   "source": [
    "precision_at_k(implicit_als, train_m.T, val_m.T, K=15)"
   ]
  },
  {
   "cell_type": "code",
   "execution_count": 26,
   "metadata": {},
   "outputs": [
    {
     "data": {
      "application/vnd.jupyter.widget-view+json": {
       "model_id": "f0396e7cbb81481282994d80a6e40232",
       "version_major": 2,
       "version_minor": 0
      },
      "text/plain": [
       "HBox(children=(HTML(value=''), FloatProgress(value=0.0, max=583036.0), HTML(value='')))"
      ]
     },
     "metadata": {},
     "output_type": "display_data"
    },
    {
     "name": "stdout",
     "output_type": "stream",
     "text": [
      "\n"
     ]
    },
    {
     "data": {
      "text/plain": [
       "0.04810541178749741"
      ]
     },
     "execution_count": 26,
     "metadata": {},
     "output_type": "execute_result"
    }
   ],
   "source": [
    "ndcg_at_k(implicit_als, train_m.T, val_m.T)"
   ]
  }
 ],
 "metadata": {
  "kernelspec": {
   "display_name": "Python 3",
   "language": "python",
   "name": "python3"
  },
  "language_info": {
   "codemirror_mode": {
    "name": "ipython",
    "version": 3
   },
   "file_extension": ".py",
   "mimetype": "text/x-python",
   "name": "python",
   "nbconvert_exporter": "python",
   "pygments_lexer": "ipython3",
   "version": "3.7.9"
  }
 },
 "nbformat": 4,
 "nbformat_minor": 4
}
