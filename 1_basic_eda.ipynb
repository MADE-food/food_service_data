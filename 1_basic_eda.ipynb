{
 "cells": [
  {
   "cell_type": "code",
   "execution_count": 42,
   "metadata": {},
   "outputs": [],
   "source": [
    "import pandas as pd\n",
    "%matplotlib inline"
   ]
  },
  {
   "cell_type": "code",
   "execution_count": 4,
   "metadata": {},
   "outputs": [],
   "source": [
    "data = pd.read_parquet('../data/data_made_restaurants.parquet')"
   ]
  },
  {
   "cell_type": "code",
   "execution_count": 5,
   "metadata": {},
   "outputs": [
    {
     "data": {
      "text/plain": [
       "(2780801, 24)"
      ]
     },
     "execution_count": 5,
     "metadata": {},
     "output_type": "execute_result"
    }
   ],
   "source": [
    "data.shape"
   ]
  },
  {
   "cell_type": "code",
   "execution_count": 6,
   "metadata": {},
   "outputs": [
    {
     "data": {
      "text/html": [
       "<div>\n",
       "<style scoped>\n",
       "    .dataframe tbody tr th:only-of-type {\n",
       "        vertical-align: middle;\n",
       "    }\n",
       "\n",
       "    .dataframe tbody tr th {\n",
       "        vertical-align: top;\n",
       "    }\n",
       "\n",
       "    .dataframe thead th {\n",
       "        text-align: right;\n",
       "    }\n",
       "</style>\n",
       "<table border=\"1\" class=\"dataframe\">\n",
       "  <thead>\n",
       "    <tr style=\"text-align: right;\">\n",
       "      <th></th>\n",
       "      <th>customer_id</th>\n",
       "      <th>order_id</th>\n",
       "      <th>user_latitude</th>\n",
       "      <th>user_longitude</th>\n",
       "      <th>date</th>\n",
       "      <th>city_id</th>\n",
       "      <th>chain_id</th>\n",
       "      <th>vendor_id</th>\n",
       "      <th>target</th>\n",
       "      <th>total_value</th>\n",
       "      <th>...</th>\n",
       "      <th>vendor_latitude</th>\n",
       "      <th>vendor_longitude</th>\n",
       "      <th>online_payment</th>\n",
       "      <th>accepting_cash</th>\n",
       "      <th>min_delivery_value</th>\n",
       "      <th>takeaway_support</th>\n",
       "      <th>citymobil_support</th>\n",
       "      <th>default_product_group_id</th>\n",
       "      <th>product_group_ids</th>\n",
       "      <th>cuisine_ids</th>\n",
       "    </tr>\n",
       "  </thead>\n",
       "  <tbody>\n",
       "    <tr>\n",
       "      <th>0</th>\n",
       "      <td>15955880</td>\n",
       "      <td>207845807</td>\n",
       "      <td>55.7815</td>\n",
       "      <td>37.5307</td>\n",
       "      <td>2020-08-01</td>\n",
       "      <td>1</td>\n",
       "      <td>140718</td>\n",
       "      <td>343852</td>\n",
       "      <td>1</td>\n",
       "      <td>575</td>\n",
       "      <td>...</td>\n",
       "      <td>55.778137</td>\n",
       "      <td>37.6024</td>\n",
       "      <td>1</td>\n",
       "      <td>0</td>\n",
       "      <td>1000</td>\n",
       "      <td>1</td>\n",
       "      <td>0</td>\n",
       "      <td>30.0</td>\n",
       "      <td>[30]</td>\n",
       "      <td>None</td>\n",
       "    </tr>\n",
       "    <tr>\n",
       "      <th>1</th>\n",
       "      <td>62512097</td>\n",
       "      <td>207855295</td>\n",
       "      <td>55.6472</td>\n",
       "      <td>37.4682</td>\n",
       "      <td>2020-08-01</td>\n",
       "      <td>1</td>\n",
       "      <td>140718</td>\n",
       "      <td>343852</td>\n",
       "      <td>1</td>\n",
       "      <td>1360</td>\n",
       "      <td>...</td>\n",
       "      <td>55.778137</td>\n",
       "      <td>37.6024</td>\n",
       "      <td>1</td>\n",
       "      <td>0</td>\n",
       "      <td>1000</td>\n",
       "      <td>1</td>\n",
       "      <td>0</td>\n",
       "      <td>30.0</td>\n",
       "      <td>[30]</td>\n",
       "      <td>None</td>\n",
       "    </tr>\n",
       "    <tr>\n",
       "      <th>2</th>\n",
       "      <td>64977556</td>\n",
       "      <td>207871966</td>\n",
       "      <td>55.8649</td>\n",
       "      <td>37.5014</td>\n",
       "      <td>2020-08-01</td>\n",
       "      <td>1</td>\n",
       "      <td>140718</td>\n",
       "      <td>343852</td>\n",
       "      <td>1</td>\n",
       "      <td>560</td>\n",
       "      <td>...</td>\n",
       "      <td>55.778137</td>\n",
       "      <td>37.6024</td>\n",
       "      <td>1</td>\n",
       "      <td>0</td>\n",
       "      <td>1000</td>\n",
       "      <td>1</td>\n",
       "      <td>0</td>\n",
       "      <td>30.0</td>\n",
       "      <td>[30]</td>\n",
       "      <td>None</td>\n",
       "    </tr>\n",
       "    <tr>\n",
       "      <th>3</th>\n",
       "      <td>81281415</td>\n",
       "      <td>207960541</td>\n",
       "      <td>55.8711</td>\n",
       "      <td>37.5105</td>\n",
       "      <td>2020-08-01</td>\n",
       "      <td>1</td>\n",
       "      <td>140718</td>\n",
       "      <td>343852</td>\n",
       "      <td>1</td>\n",
       "      <td>1130</td>\n",
       "      <td>...</td>\n",
       "      <td>55.778137</td>\n",
       "      <td>37.6024</td>\n",
       "      <td>1</td>\n",
       "      <td>0</td>\n",
       "      <td>1000</td>\n",
       "      <td>1</td>\n",
       "      <td>0</td>\n",
       "      <td>30.0</td>\n",
       "      <td>[30]</td>\n",
       "      <td>None</td>\n",
       "    </tr>\n",
       "    <tr>\n",
       "      <th>4</th>\n",
       "      <td>72045218</td>\n",
       "      <td>208028305</td>\n",
       "      <td>55.8166</td>\n",
       "      <td>37.5899</td>\n",
       "      <td>2020-08-01</td>\n",
       "      <td>1</td>\n",
       "      <td>140718</td>\n",
       "      <td>343852</td>\n",
       "      <td>1</td>\n",
       "      <td>745</td>\n",
       "      <td>...</td>\n",
       "      <td>55.778137</td>\n",
       "      <td>37.6024</td>\n",
       "      <td>1</td>\n",
       "      <td>0</td>\n",
       "      <td>1000</td>\n",
       "      <td>1</td>\n",
       "      <td>0</td>\n",
       "      <td>30.0</td>\n",
       "      <td>[30]</td>\n",
       "      <td>None</td>\n",
       "    </tr>\n",
       "  </tbody>\n",
       "</table>\n",
       "<p>5 rows × 24 columns</p>\n",
       "</div>"
      ],
      "text/plain": [
       "   customer_id   order_id  user_latitude  user_longitude        date  city_id  \\\n",
       "0     15955880  207845807        55.7815         37.5307  2020-08-01        1   \n",
       "1     62512097  207855295        55.6472         37.4682  2020-08-01        1   \n",
       "2     64977556  207871966        55.8649         37.5014  2020-08-01        1   \n",
       "3     81281415  207960541        55.8711         37.5105  2020-08-01        1   \n",
       "4     72045218  208028305        55.8166         37.5899  2020-08-01        1   \n",
       "\n",
       "   chain_id  vendor_id  target  total_value  ...  vendor_latitude  \\\n",
       "0    140718     343852       1          575  ...        55.778137   \n",
       "1    140718     343852       1         1360  ...        55.778137   \n",
       "2    140718     343852       1          560  ...        55.778137   \n",
       "3    140718     343852       1         1130  ...        55.778137   \n",
       "4    140718     343852       1          745  ...        55.778137   \n",
       "\n",
       "   vendor_longitude online_payment  accepting_cash  min_delivery_value  \\\n",
       "0           37.6024              1               0                1000   \n",
       "1           37.6024              1               0                1000   \n",
       "2           37.6024              1               0                1000   \n",
       "3           37.6024              1               0                1000   \n",
       "4           37.6024              1               0                1000   \n",
       "\n",
       "   takeaway_support  citymobil_support  default_product_group_id  \\\n",
       "0                 1                  0                      30.0   \n",
       "1                 1                  0                      30.0   \n",
       "2                 1                  0                      30.0   \n",
       "3                 1                  0                      30.0   \n",
       "4                 1                  0                      30.0   \n",
       "\n",
       "   product_group_ids  cuisine_ids  \n",
       "0               [30]         None  \n",
       "1               [30]         None  \n",
       "2               [30]         None  \n",
       "3               [30]         None  \n",
       "4               [30]         None  \n",
       "\n",
       "[5 rows x 24 columns]"
      ]
     },
     "execution_count": 6,
     "metadata": {},
     "output_type": "execute_result"
    }
   ],
   "source": [
    "data.head()"
   ]
  },
  {
   "cell_type": "code",
   "execution_count": 18,
   "metadata": {},
   "outputs": [
    {
     "data": {
      "text/plain": [
       "Index(['customer_id', 'order_id', 'user_latitude', 'user_longitude', 'date',\n",
       "       'city_id', 'chain_id', 'vendor_id', 'target', 'total_value',\n",
       "       'discount_value', 'delivery_fee', 'chain_name', 'ddk_flag',\n",
       "       'vendor_latitude', 'vendor_longitude', 'online_payment',\n",
       "       'accepting_cash', 'min_delivery_value', 'takeaway_support',\n",
       "       'citymobil_support', 'default_product_group_id', 'product_group_ids',\n",
       "       'cuisine_ids', 'month'],\n",
       "      dtype='object')"
      ]
     },
     "execution_count": 18,
     "metadata": {},
     "output_type": "execute_result"
    }
   ],
   "source": [
    "data.columns"
   ]
  },
  {
   "cell_type": "code",
   "execution_count": 21,
   "metadata": {},
   "outputs": [
    {
     "data": {
      "text/plain": [
       "10398"
      ]
     },
     "execution_count": 21,
     "metadata": {},
     "output_type": "execute_result"
    }
   ],
   "source": [
    "len(data['chain_name'].unique())"
   ]
  },
  {
   "cell_type": "markdown",
   "metadata": {},
   "source": [
    "# Даты"
   ]
  },
  {
   "cell_type": "code",
   "execution_count": 11,
   "metadata": {},
   "outputs": [
    {
     "name": "stdout",
     "output_type": "stream",
     "text": [
      "c 2020-08-01 по 2020-10-31\n"
     ]
    }
   ],
   "source": [
    "print('c {} по {}'.format(data['date'].min(), data['date'].max()))"
   ]
  },
  {
   "cell_type": "code",
   "execution_count": 13,
   "metadata": {},
   "outputs": [],
   "source": [
    "data['month'] = data['date'].apply(lambda x: x[:7])"
   ]
  },
  {
   "cell_type": "code",
   "execution_count": 17,
   "metadata": {},
   "outputs": [
    {
     "data": {
      "text/plain": [
       "month\n",
       "2020-08     853135\n",
       "2020-09     886723\n",
       "2020-10    1040943\n",
       "Name: order_id, dtype: int64"
      ]
     },
     "execution_count": 17,
     "metadata": {},
     "output_type": "execute_result"
    }
   ],
   "source": [
    "data.groupby('month')['order_id'].count()"
   ]
  },
  {
   "cell_type": "markdown",
   "metadata": {},
   "source": [
    "# Количество заказов на пользователя"
   ]
  },
  {
   "cell_type": "code",
   "execution_count": 28,
   "metadata": {},
   "outputs": [],
   "source": [
    "cust_month = data.groupby(['customer_id', 'month'])['order_id'].count().unstack().fillna(0)"
   ]
  },
  {
   "cell_type": "code",
   "execution_count": 47,
   "metadata": {},
   "outputs": [
    {
     "data": {
      "text/html": [
       "<div>\n",
       "<style scoped>\n",
       "    .dataframe tbody tr th:only-of-type {\n",
       "        vertical-align: middle;\n",
       "    }\n",
       "\n",
       "    .dataframe tbody tr th {\n",
       "        vertical-align: top;\n",
       "    }\n",
       "\n",
       "    .dataframe thead th {\n",
       "        text-align: right;\n",
       "    }\n",
       "</style>\n",
       "<table border=\"1\" class=\"dataframe\">\n",
       "  <thead>\n",
       "    <tr style=\"text-align: right;\">\n",
       "      <th>month</th>\n",
       "      <th>2020-08</th>\n",
       "      <th>2020-09</th>\n",
       "      <th>2020-10</th>\n",
       "    </tr>\n",
       "    <tr>\n",
       "      <th>customer_id</th>\n",
       "      <th></th>\n",
       "      <th></th>\n",
       "      <th></th>\n",
       "    </tr>\n",
       "  </thead>\n",
       "  <tbody>\n",
       "    <tr>\n",
       "      <th>-10</th>\n",
       "      <td>6433.0</td>\n",
       "      <td>6259.0</td>\n",
       "      <td>9284.0</td>\n",
       "    </tr>\n",
       "    <tr>\n",
       "      <th>86</th>\n",
       "      <td>0.0</td>\n",
       "      <td>0.0</td>\n",
       "      <td>2.0</td>\n",
       "    </tr>\n",
       "    <tr>\n",
       "      <th>90</th>\n",
       "      <td>1.0</td>\n",
       "      <td>0.0</td>\n",
       "      <td>0.0</td>\n",
       "    </tr>\n",
       "    <tr>\n",
       "      <th>212</th>\n",
       "      <td>0.0</td>\n",
       "      <td>0.0</td>\n",
       "      <td>1.0</td>\n",
       "    </tr>\n",
       "    <tr>\n",
       "      <th>219</th>\n",
       "      <td>8.0</td>\n",
       "      <td>0.0</td>\n",
       "      <td>8.0</td>\n",
       "    </tr>\n",
       "  </tbody>\n",
       "</table>\n",
       "</div>"
      ],
      "text/plain": [
       "month        2020-08  2020-09  2020-10\n",
       "customer_id                           \n",
       "-10           6433.0   6259.0   9284.0\n",
       " 86              0.0      0.0      2.0\n",
       " 90              1.0      0.0      0.0\n",
       " 212             0.0      0.0      1.0\n",
       " 219             8.0      0.0      8.0"
      ]
     },
     "execution_count": 47,
     "metadata": {},
     "output_type": "execute_result"
    }
   ],
   "source": [
    "cust_month.head()"
   ]
  },
  {
   "cell_type": "code",
   "execution_count": 30,
   "metadata": {},
   "outputs": [
    {
     "data": {
      "text/plain": [
       "month\n",
       "2020-08     853135.0\n",
       "2020-09     886723.0\n",
       "2020-10    1040943.0\n",
       "dtype: float64"
      ]
     },
     "execution_count": 30,
     "metadata": {},
     "output_type": "execute_result"
    }
   ],
   "source": [
    "cust_month.sum()"
   ]
  },
  {
   "cell_type": "code",
   "execution_count": 49,
   "metadata": {},
   "outputs": [
    {
     "data": {
      "text/plain": [
       "customer_id\n",
       "-10     21976.0\n",
       " 86         2.0\n",
       " 90         1.0\n",
       " 212        1.0\n",
       " 219       16.0\n",
       "dtype: float64"
      ]
     },
     "execution_count": 49,
     "metadata": {},
     "output_type": "execute_result"
    }
   ],
   "source": [
    "cust_order_count = cust_month.sum(axis=1)\n",
    "cust_order_count.head()"
   ]
  },
  {
   "cell_type": "code",
   "execution_count": 45,
   "metadata": {},
   "outputs": [
    {
     "data": {
      "text/plain": [
       "1.0        1019201\n",
       "2.0         282095\n",
       "3.0         116330\n",
       "4.0          57280\n",
       "5.0          31278\n",
       "6.0          18554\n",
       "7.0          11396\n",
       "8.0           7394\n",
       "9.0           4836\n",
       "10.0          3320\n",
       "11.0          2299\n",
       "12.0          1572\n",
       "13.0          1139\n",
       "14.0           774\n",
       "15.0           608\n",
       "16.0           443\n",
       "17.0           353\n",
       "18.0           250\n",
       "19.0           187\n",
       "20.0           117\n",
       "21.0           114\n",
       "22.0            70\n",
       "23.0            55\n",
       "24.0            38\n",
       "25.0            36\n",
       "26.0            34\n",
       "27.0            22\n",
       "29.0            18\n",
       "28.0            17\n",
       "30.0            14\n",
       "31.0            12\n",
       "33.0             5\n",
       "32.0             5\n",
       "40.0             3\n",
       "36.0             3\n",
       "37.0             3\n",
       "34.0             2\n",
       "35.0             2\n",
       "42.0             2\n",
       "38.0             1\n",
       "21976.0          1\n",
       "43.0             1\n",
       "46.0             1\n",
       "49.0             1\n",
       "50.0             1\n",
       "59.0             1\n",
       "69.0             1\n",
       "45.0             1\n",
       "dtype: int64"
      ]
     },
     "execution_count": 45,
     "metadata": {},
     "output_type": "execute_result"
    }
   ],
   "source": [
    "cust_order_count.value_counts()"
   ]
  },
  {
   "cell_type": "code",
   "execution_count": 41,
   "metadata": {},
   "outputs": [
    {
     "data": {
      "text/plain": [
       "1.7826904461212008"
      ]
     },
     "execution_count": 41,
     "metadata": {},
     "output_type": "execute_result"
    }
   ],
   "source": [
    "cust_order_count.mean()"
   ]
  },
  {
   "cell_type": "markdown",
   "metadata": {},
   "source": [
    "# "
   ]
  }
 ],
 "metadata": {
  "kernelspec": {
   "display_name": "Python 3",
   "language": "python",
   "name": "python3"
  },
  "language_info": {
   "codemirror_mode": {
    "name": "ipython",
    "version": 3
   },
   "file_extension": ".py",
   "mimetype": "text/x-python",
   "name": "python",
   "nbconvert_exporter": "python",
   "pygments_lexer": "ipython3",
   "version": "3.7.4"
  }
 },
 "nbformat": 4,
 "nbformat_minor": 2
}
