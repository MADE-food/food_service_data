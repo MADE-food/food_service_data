{
 "cells": [
  {
   "cell_type": "code",
   "execution_count": 1,
   "metadata": {},
   "outputs": [],
   "source": [
    "#                       _oo0oo_\n",
    "#                      o8888888o\n",
    "#                      88\" . \"88\n",
    "#                      (| -_- |)\n",
    "#                      0\\  =  /0\n",
    "#                    ___/`---'\\___\n",
    "#                  .' \\\\|     |# '.\n",
    "#                 / \\\\|||  :  |||# \\\n",
    "#                / _||||| -:- |||||- \\\n",
    "#               |   | \\\\\\  -  #/ |   |\n",
    "#               | \\_|  ''\\---/''  |_/ |\n",
    "#               \\  .-\\__  '-'  ___/-. /\n",
    "#             ___'. .'  /--.--\\  `. .'___\n",
    "#          .\"\" '<  `.___\\_<|>_/___.' >' \"\".\n",
    "#         | | :  `- \\`.;`\\ _ /`;.`/ - ` : | |\n",
    "#         \\  \\ `_.   \\_ __\\ /__ _/   .-` /  /\n",
    "#     =====`-.____`.___ \\_____/___.-`___.-'=====\n",
    "#                       `=---='\n",
    "#\n",
    "#\n",
    "#     ~~~~~~~~~~~~~~~~~~~~~~~~~~~~~~~~~~~~~~~~~~~\n",
    "#\n",
    "#               佛祖保佑         永无BUG"
   ]
  },
  {
   "cell_type": "code",
   "execution_count": 2,
   "metadata": {},
   "outputs": [],
   "source": [
    "import os\n",
    "\n",
    "os.environ['OPENBLAS_NUM_THREADS'] = '1'\n",
    "os.environ[\"OMP_NUM_THREADS\"] = '1'\n",
    "os.environ[\"MKL_NUM_THREADS\"] = '1'\n",
    "os.environ[\"VECLIB_MAXIMUM_THREADS\"] = '1'\n",
    "os.environ[\"NUMEXPR_NUM_THREADS\"] = '1'"
   ]
  },
  {
   "cell_type": "code",
   "execution_count": 3,
   "metadata": {},
   "outputs": [],
   "source": [
    "import pandas as pd\n",
    "import numpy as np\n",
    "import implicit\n",
    "import matplotlib.pyplot as plt\n",
    "import lightgbm as lgb\n",
    "\n",
    "from implicit.nearest_neighbours import bm25_weight\n",
    "from scipy.sparse import csr_matrix\n",
    "from implicit.evaluation import train_test_split, ndcg_at_k, precision_at_k\n",
    "from sklearn.neighbors import BallTree\n",
    "from tqdm import tqdm\n",
    "\n",
    "%matplotlib inline"
   ]
  },
  {
   "cell_type": "code",
   "execution_count": 4,
   "metadata": {},
   "outputs": [],
   "source": [
    "df = pd.read_csv('data_made_restaurants.csv', )"
   ]
  },
  {
   "cell_type": "code",
   "execution_count": 5,
   "metadata": {},
   "outputs": [],
   "source": [
    "df.drop(columns=['Unnamed: 0'], inplace=True)\n",
    "\n",
    "# remove customer_id = -10 - as unknown customer\n",
    "df = df[df['customer_id'] != -10].reset_index(drop=True)\n",
    "\n",
    "# remove product_group_ids is None - not a restaurants, they are food markets\n",
    "market_index = pd.isnull(df.product_group_ids)\n",
    "df = df[~df['product_group_ids'].isnull()].reset_index(drop=True)"
   ]
  },
  {
   "cell_type": "code",
   "execution_count": 6,
   "metadata": {},
   "outputs": [],
   "source": [
    "# need to remove fastfood from validation\n",
    "fastfood = {\n",
    "    'Макдоналдс': df[df['chain_name'] == 'Макдоналдс']['chain_id'].index.tolist(),\n",
    "    'KFC': df[df['chain_name'] == 'KFC']['chain_id'].index.tolist(),\n",
    "    'Burger King': df[df['chain_name'] == 'Burger King']['chain_id'].index.tolist(),\n",
    "}\n",
    "\n",
    "fastfoold_chains = np.hstack([chain_id for chain_id in fastfood.values()])"
   ]
  },
  {
   "cell_type": "code",
   "execution_count": 7,
   "metadata": {},
   "outputs": [],
   "source": [
    "# add date features\n",
    "df['date'] = pd.to_datetime(df['date'])\n",
    "df['week'] = (df['date'] - df['date'].min()).dt.days // 7\n",
    "df['day_of_week'] = df['date'].dt.dayofweek"
   ]
  },
  {
   "cell_type": "code",
   "execution_count": 8,
   "metadata": {},
   "outputs": [],
   "source": [
    "# split data on order, customer and vendor entities\n",
    "pairs = df[['order_id', 'customer_id', 'vendor_id', 'chain_id', 'city_id', 'target',\n",
    "            'total_value', 'discount_value', 'delivery_fee', 'user_latitude', 'user_longitude',\n",
    "            'date', 'week', 'day_of_week']]\n",
    "\n",
    "vendor_data = (df[['vendor_id', 'chain_id', 'chain_name', 'ddk_flag',\n",
    "                  'vendor_latitude', 'vendor_longitude', 'online_payment', 'accepting_cash',\n",
    "                  'min_delivery_value', 'takeaway_support', 'citymobil_support',\n",
    "                  'default_product_group_id', 'product_group_ids', 'cuisine_ids']]\n",
    "               .drop_duplicates().reset_index(drop=True))\n",
    "\n",
    "# identify user coordinates by the most frequent (or the last) order\n",
    "customer_data = pairs.groupby(['customer_id', 'user_latitude', 'user_longitude'])['vendor_id'].count().reset_index()\n",
    "customer_data = customer_data.merge(\n",
    "    pairs.groupby(['customer_id', 'user_latitude', 'user_longitude'])['date'].max().reset_index())\n",
    "customer_data.sort_values(by=['customer_id', 'vendor_id', 'date'], inplace=True, ascending=False)\n",
    "customer_data = customer_data.groupby('customer_id')[['user_latitude', 'user_longitude']].first().reset_index()"
   ]
  },
  {
   "cell_type": "code",
   "execution_count": 10,
   "metadata": {},
   "outputs": [
    {
     "data": {
      "text/html": [
       "<div>\n",
       "<style scoped>\n",
       "    .dataframe tbody tr th:only-of-type {\n",
       "        vertical-align: middle;\n",
       "    }\n",
       "\n",
       "    .dataframe tbody tr th {\n",
       "        vertical-align: top;\n",
       "    }\n",
       "\n",
       "    .dataframe thead th {\n",
       "        text-align: right;\n",
       "    }\n",
       "</style>\n",
       "<table border=\"1\" class=\"dataframe\">\n",
       "  <thead>\n",
       "    <tr style=\"text-align: right;\">\n",
       "      <th></th>\n",
       "      <th>customer_id</th>\n",
       "      <th>order_id</th>\n",
       "      <th>user_latitude</th>\n",
       "      <th>user_longitude</th>\n",
       "      <th>date</th>\n",
       "      <th>city_id</th>\n",
       "      <th>chain_id</th>\n",
       "      <th>vendor_id</th>\n",
       "      <th>target</th>\n",
       "      <th>total_value</th>\n",
       "      <th>...</th>\n",
       "      <th>online_payment</th>\n",
       "      <th>accepting_cash</th>\n",
       "      <th>min_delivery_value</th>\n",
       "      <th>takeaway_support</th>\n",
       "      <th>citymobil_support</th>\n",
       "      <th>default_product_group_id</th>\n",
       "      <th>product_group_ids</th>\n",
       "      <th>cuisine_ids</th>\n",
       "      <th>week</th>\n",
       "      <th>day_of_week</th>\n",
       "    </tr>\n",
       "  </thead>\n",
       "  <tbody>\n",
       "    <tr>\n",
       "      <th>0</th>\n",
       "      <td>15955880</td>\n",
       "      <td>207845807</td>\n",
       "      <td>55.7815</td>\n",
       "      <td>37.5307</td>\n",
       "      <td>2020-08-01</td>\n",
       "      <td>1</td>\n",
       "      <td>140718</td>\n",
       "      <td>343852</td>\n",
       "      <td>1</td>\n",
       "      <td>575</td>\n",
       "      <td>...</td>\n",
       "      <td>1</td>\n",
       "      <td>0</td>\n",
       "      <td>1000</td>\n",
       "      <td>1</td>\n",
       "      <td>0</td>\n",
       "      <td>30.0</td>\n",
       "      <td>[30]</td>\n",
       "      <td>NaN</td>\n",
       "      <td>0</td>\n",
       "      <td>5</td>\n",
       "    </tr>\n",
       "    <tr>\n",
       "      <th>1</th>\n",
       "      <td>62512097</td>\n",
       "      <td>207855295</td>\n",
       "      <td>55.6472</td>\n",
       "      <td>37.4682</td>\n",
       "      <td>2020-08-01</td>\n",
       "      <td>1</td>\n",
       "      <td>140718</td>\n",
       "      <td>343852</td>\n",
       "      <td>1</td>\n",
       "      <td>1360</td>\n",
       "      <td>...</td>\n",
       "      <td>1</td>\n",
       "      <td>0</td>\n",
       "      <td>1000</td>\n",
       "      <td>1</td>\n",
       "      <td>0</td>\n",
       "      <td>30.0</td>\n",
       "      <td>[30]</td>\n",
       "      <td>NaN</td>\n",
       "      <td>0</td>\n",
       "      <td>5</td>\n",
       "    </tr>\n",
       "    <tr>\n",
       "      <th>2</th>\n",
       "      <td>64977556</td>\n",
       "      <td>207871966</td>\n",
       "      <td>55.8649</td>\n",
       "      <td>37.5014</td>\n",
       "      <td>2020-08-01</td>\n",
       "      <td>1</td>\n",
       "      <td>140718</td>\n",
       "      <td>343852</td>\n",
       "      <td>1</td>\n",
       "      <td>560</td>\n",
       "      <td>...</td>\n",
       "      <td>1</td>\n",
       "      <td>0</td>\n",
       "      <td>1000</td>\n",
       "      <td>1</td>\n",
       "      <td>0</td>\n",
       "      <td>30.0</td>\n",
       "      <td>[30]</td>\n",
       "      <td>NaN</td>\n",
       "      <td>0</td>\n",
       "      <td>5</td>\n",
       "    </tr>\n",
       "    <tr>\n",
       "      <th>3</th>\n",
       "      <td>81281415</td>\n",
       "      <td>207960541</td>\n",
       "      <td>55.8711</td>\n",
       "      <td>37.5105</td>\n",
       "      <td>2020-08-01</td>\n",
       "      <td>1</td>\n",
       "      <td>140718</td>\n",
       "      <td>343852</td>\n",
       "      <td>1</td>\n",
       "      <td>1130</td>\n",
       "      <td>...</td>\n",
       "      <td>1</td>\n",
       "      <td>0</td>\n",
       "      <td>1000</td>\n",
       "      <td>1</td>\n",
       "      <td>0</td>\n",
       "      <td>30.0</td>\n",
       "      <td>[30]</td>\n",
       "      <td>NaN</td>\n",
       "      <td>0</td>\n",
       "      <td>5</td>\n",
       "    </tr>\n",
       "    <tr>\n",
       "      <th>4</th>\n",
       "      <td>72045218</td>\n",
       "      <td>208028305</td>\n",
       "      <td>55.8166</td>\n",
       "      <td>37.5899</td>\n",
       "      <td>2020-08-01</td>\n",
       "      <td>1</td>\n",
       "      <td>140718</td>\n",
       "      <td>343852</td>\n",
       "      <td>1</td>\n",
       "      <td>745</td>\n",
       "      <td>...</td>\n",
       "      <td>1</td>\n",
       "      <td>0</td>\n",
       "      <td>1000</td>\n",
       "      <td>1</td>\n",
       "      <td>0</td>\n",
       "      <td>30.0</td>\n",
       "      <td>[30]</td>\n",
       "      <td>NaN</td>\n",
       "      <td>0</td>\n",
       "      <td>5</td>\n",
       "    </tr>\n",
       "  </tbody>\n",
       "</table>\n",
       "<p>5 rows × 26 columns</p>\n",
       "</div>"
      ],
      "text/plain": [
       "   customer_id   order_id  user_latitude  user_longitude       date  city_id  \\\n",
       "0     15955880  207845807        55.7815         37.5307 2020-08-01        1   \n",
       "1     62512097  207855295        55.6472         37.4682 2020-08-01        1   \n",
       "2     64977556  207871966        55.8649         37.5014 2020-08-01        1   \n",
       "3     81281415  207960541        55.8711         37.5105 2020-08-01        1   \n",
       "4     72045218  208028305        55.8166         37.5899 2020-08-01        1   \n",
       "\n",
       "   chain_id  vendor_id  target  total_value  ...  online_payment  \\\n",
       "0    140718     343852       1          575  ...               1   \n",
       "1    140718     343852       1         1360  ...               1   \n",
       "2    140718     343852       1          560  ...               1   \n",
       "3    140718     343852       1         1130  ...               1   \n",
       "4    140718     343852       1          745  ...               1   \n",
       "\n",
       "   accepting_cash min_delivery_value  takeaway_support  citymobil_support  \\\n",
       "0               0               1000                 1                  0   \n",
       "1               0               1000                 1                  0   \n",
       "2               0               1000                 1                  0   \n",
       "3               0               1000                 1                  0   \n",
       "4               0               1000                 1                  0   \n",
       "\n",
       "   default_product_group_id  product_group_ids  cuisine_ids  week  day_of_week  \n",
       "0                      30.0               [30]          NaN     0            5  \n",
       "1                      30.0               [30]          NaN     0            5  \n",
       "2                      30.0               [30]          NaN     0            5  \n",
       "3                      30.0               [30]          NaN     0            5  \n",
       "4                      30.0               [30]          NaN     0            5  \n",
       "\n",
       "[5 rows x 26 columns]"
      ]
     },
     "execution_count": 10,
     "metadata": {},
     "output_type": "execute_result"
    }
   ],
   "source": [
    "df.head()"
   ]
  },
  {
   "cell_type": "markdown",
   "metadata": {},
   "source": [
    "### Validation"
   ]
  },
  {
   "cell_type": "code",
   "execution_count": 11,
   "metadata": {},
   "outputs": [],
   "source": [
    "def split_by_folds(df):\n",
    "    # split data on train and validation\n",
    "    folds = {\n",
    "        'previous': df[df['week'] <= 3].index.tolist(),\n",
    "        'test': df[df['week'] >= 11].index.tolist()\n",
    "    }\n",
    "    \n",
    "    for fold_num, week in enumerate(range(4, 7)):\n",
    "        fold_train = df[(df['week'] >= week) & (df['week'] < (week + 4))]\n",
    "        folds[f'train_{fold_num + 1}'] = fold_train.index.tolist()\n",
    "        \n",
    "        fold_val = df[(df['week'] == (week + 4)) \n",
    "                      & (~df['chain_id'].isin(fastfoold_chains))] # remove fastfood from validation\n",
    "        \n",
    "        # remove train orders from validation\n",
    "        tmp = fold_train[['customer_id', 'chain_id']].drop_duplicates()\n",
    "        tmp['is_in_train'] = 1\n",
    "        fold_val = fold_val.merge(tmp, how='left')\n",
    "        fold_val = fold_val[fold_val['is_in_train'].isnull()].reset_index(drop=True)\n",
    "        \n",
    "        folds[f'val_{fold_num + 1}'] = fold_val.index.tolist()\n",
    "        \n",
    "    return folds"
   ]
  },
  {
   "cell_type": "code",
   "execution_count": 12,
   "metadata": {},
   "outputs": [],
   "source": [
    "def build_vendor_tree(df):\n",
    "    # bulld data structure for fast geo search\n",
    "    vendor_coords = df[['vendor_id', 'vendor_latitude', 'vendor_longitude']].drop_duplicates()\n",
    "    \n",
    "    tree = BallTree(np.radians(vendor_coords[['vendor_latitude', 'vendor_longitude']]), \n",
    "                    leaf_size=40, metric='haversine')\n",
    "    \n",
    "    return tree, vendor_coords"
   ]
  },
  {
   "cell_type": "code",
   "execution_count": 15,
   "metadata": {},
   "outputs": [],
   "source": [
    "def sample_zeros(tree, user_coords, vendor_coords, radius=5000, n_samples=50):\n",
    "    # sample zeros as vendor_ids within some radius\n",
    "    R = 6367000\n",
    "    ind, dist = tree.query_radius(np.radians(user_coords[['user_latitude', 'user_longitude']]), \n",
    "                                  r=radius/R, return_distance=True)\n",
    "    \n",
    "    zeros = []\n",
    "    vendor_coords_values = vendor_coords['vendor_id'].values\n",
    "    \n",
    "    for i, customer_id in enumerate(user_coords['customer_id']):\n",
    "        vendors = np.random.choice(ind[i], size=min(len(ind[i]), n_samples), replace=False)\n",
    "        zeros += [(customer_id, vendor, 0) for vendor in vendor_coords_values[vendors]]\n",
    "        \n",
    "    return pd.DataFrame(zeros, columns=['customer_id', 'vendor_id', 'target'])"
   ]
  },
  {
   "cell_type": "code",
   "execution_count": 21,
   "metadata": {},
   "outputs": [],
   "source": [
    "def add_zeros_to_folds(fold, pairs_zeros):\n",
    "    \n",
    "    fold = pd.concat([fold, pairs_zeros[pairs_zeros['customer_id'].isin(fold['customer_id'])]], axis=0)\n",
    "    fold.drop_duplicates(subset=['customer_id', 'chain_id', 'target'], inplace=True)\n",
    "    fold = (fold.groupby(['customer_id', 'chain_id'])['target'].max().reset_index()\n",
    "            .merge(fold))\n",
    "    return fold"
   ]
  },
  {
   "cell_type": "code",
   "execution_count": 16,
   "metadata": {},
   "outputs": [],
   "source": [
    "tree, vendor_coords = build_vendor_tree(vendor_data)\n",
    "\n",
    "pairs_zeros = sample_zeros(tree, customer_data, vendor_coords)"
   ]
  },
  {
   "cell_type": "code",
   "execution_count": 18,
   "metadata": {},
   "outputs": [],
   "source": [
    "# add source features to sampled zeros\n",
    "pairs_zeros = (pairs_zeros\n",
    "               .merge(customer_data)\n",
    "               .merge(vendor_data[['vendor_id', 'chain_id']].drop_duplicates()))"
   ]
  },
  {
   "cell_type": "code",
   "execution_count": 19,
   "metadata": {},
   "outputs": [],
   "source": [
    "folds = split_by_folds(pairs)"
   ]
  },
  {
   "cell_type": "markdown",
   "metadata": {},
   "source": [
    "### Feature engineering"
   ]
  },
  {
   "cell_type": "code",
   "execution_count": 30,
   "metadata": {},
   "outputs": [],
   "source": [
    "def haversine(lat1, lon1, lat2, lon2):\n",
    "    lon1, lat1, lon2, lat2 = map(np.radians, [lon1, lat1, lon2, lat2])\n",
    "\n",
    "    dlon = lon2 - lon1\n",
    "    dlat = lat2 - lat1\n",
    "\n",
    "    a = np.sin(dlat/2.0)**2 + np.cos(lat1) * np.cos(lat2) * np.sin(dlon/2.0)**2\n",
    "\n",
    "    c = 2 * np.arcsin(np.sqrt(a))\n",
    "    km = 6367000 * c\n",
    "    return km"
   ]
  },
  {
   "cell_type": "code",
   "execution_count": 32,
   "metadata": {},
   "outputs": [],
   "source": [
    "def create_features(pairs, vendor_data):\n",
    "    # add source features\n",
    "    pairs = pairs.merge(vendor_data, on=['chain_id', 'vendor_id'])\n",
    "    \n",
    "    # add crafted features\n",
    "    pairs['distance'] = haversine(pairs['user_latitude'], pairs['user_longitude'],\n",
    "                                  pairs['vendor_latitude'], pairs['vendor_longitude'])\n",
    "    \n",
    "    # sort data for lambdamart\n",
    "    pairs.sort_values(by=['customer_id', 'chain_id', 'target'], inplace=True)\n",
    "    return pairs"
   ]
  },
  {
   "cell_type": "code",
   "execution_count": 34,
   "metadata": {},
   "outputs": [],
   "source": [
    "feats = [\n",
    "    # source features\n",
    "    'user_latitude', 'user_longitude',\n",
    "    'vendor_latitude', 'vendor_longitude', \n",
    "    'ddk_flag', 'online_payment', 'accepting_cash', 'min_delivery_value', \n",
    "    'takeaway_support', 'citymobil_support', 'default_product_group_id',\n",
    "    \n",
    "    # crafted features\n",
    "    'distance'\n",
    "]"
   ]
  },
  {
   "cell_type": "markdown",
   "metadata": {},
   "source": [
    "### Train"
   ]
  },
  {
   "cell_type": "code",
   "execution_count": null,
   "metadata": {},
   "outputs": [],
   "source": [
    "# validate on fold 1\n",
    "tr1 = add_zeros_to_folds(pairs.loc[folds['train_1']], pairs_zeros)\n",
    "val1 = add_zeros_to_folds(pairs.loc[folds['val_1']], pairs_zeros)"
   ]
  },
  {
   "cell_type": "code",
   "execution_count": 35,
   "metadata": {},
   "outputs": [],
   "source": [
    "tr1 = create_features(tr1, vendor_data)\n",
    "val1 = create_features(val1, vendor_data)"
   ]
  },
  {
   "cell_type": "code",
   "execution_count": 37,
   "metadata": {},
   "outputs": [],
   "source": [
    "lgb_params = {\n",
    "    # 'num_boost_round': 200,\n",
    "    # 'verbose_eval': 10,\n",
    "    'objective': 'lambdarank',\n",
    "    'metric': 'ndcg',\n",
    "    'eval_at': [15],\n",
    "    'max_position': 15,\n",
    "    'lambdamart_norm': True,\n",
    "    'eta': 0.1,\n",
    "    'max_depth': 6,\n",
    "    'min_data_in_leaf': 30,\n",
    "    'subsample': 0.8,\n",
    "    'colsample_bytree': 0.7,\n",
    "    'scale_pos_weight': 1,\n",
    "    'seed': 42,\n",
    "    'nthread': 8\n",
    "}"
   ]
  },
  {
   "cell_type": "code",
   "execution_count": 38,
   "metadata": {},
   "outputs": [],
   "source": [
    "dtrain = lgb.Dataset(tr1[feats], label=tr1['target'],\n",
    "                     group=tr1.groupby('customer_id')['target'].count().values)\n",
    "dval = lgb.Dataset(val1[feats], label=val1['target'],\n",
    "                   group=val1.groupby('customer_id')['target'].count().values)"
   ]
  },
  {
   "cell_type": "code",
   "execution_count": 39,
   "metadata": {},
   "outputs": [
    {
     "name": "stdout",
     "output_type": "stream",
     "text": [
      "[10]\tvalid_0's ndcg@15: 0.521759\n",
      "[20]\tvalid_0's ndcg@15: 0.541114\n",
      "[30]\tvalid_0's ndcg@15: 0.55254\n",
      "[40]\tvalid_0's ndcg@15: 0.558952\n",
      "[50]\tvalid_0's ndcg@15: 0.563833\n",
      "[60]\tvalid_0's ndcg@15: 0.568002\n",
      "[70]\tvalid_0's ndcg@15: 0.571736\n",
      "[80]\tvalid_0's ndcg@15: 0.575018\n",
      "[90]\tvalid_0's ndcg@15: 0.576696\n",
      "[100]\tvalid_0's ndcg@15: 0.578556\n"
     ]
    }
   ],
   "source": [
    "evals_res = {}\n",
    "model = lgb.train(lgb_params, dtrain, num_boost_round=100, \n",
    "                  valid_sets=[dval], evals_result=evals_res, verbose_eval=10)"
   ]
  },
  {
   "cell_type": "code",
   "execution_count": 40,
   "metadata": {},
   "outputs": [
    {
     "data": {
      "text/plain": [
       "<matplotlib.axes._subplots.AxesSubplot at 0x7f922c63e9d0>"
      ]
     },
     "execution_count": 40,
     "metadata": {},
     "output_type": "execute_result"
    },
    {
     "data": {
      "image/png": "[encoded data removed]",
      "text/plain": [
       "<Figure size 432x288 with 1 Axes>"
      ]
     },
     "metadata": {
      "needs_background": "light"
     },
     "output_type": "display_data"
    }
   ],
   "source": [
    "lgb.plot_importance(model)"
   ]
  },
  {
   "cell_type": "markdown",
   "metadata": {},
   "source": [
    "### ALS"
   ]
  },
  {
   "cell_type": "code",
   "execution_count": 41,
   "metadata": {},
   "outputs": [],
   "source": [
    "params = {\n",
    "    'n_components': 100,\n",
    "    'bm25_params': {\n",
    "        'K1': 100,\n",
    "        'B': 0.8,\n",
    "    },\n",
    "    'seed': 42,\n",
    "    'scale': 100,\n",
    "    'num_threads': 2,\n",
    "    'num_iter': 10,\n",
    "    'regularization': 1\n",
    "}\n",
    "\n",
    "def create_item_user_matrix(df, params):\n",
    "    data = df[['customer_id', 'chain_id', 'target']].copy()\n",
    "    \n",
    "    unique_rows = list(np.unique(data['customer_id']).astype(np.int32))\n",
    "    unique_cols = list(np.unique(data['chain_id']).astype(np.int32))\n",
    "\n",
    "    row_map = dict(zip(unique_rows, range(len(unique_rows))))\n",
    "    col_map = dict(zip(unique_cols, range(len(unique_cols))))\n",
    "\n",
    "    data['customer_id'] = data['customer_id'].map(row_map)\n",
    "    data['chain_id'] = data['chain_id'].map(col_map)\n",
    "\n",
    "    matrix = csr_matrix((data['target'], [data['customer_id'], data['chain_id']]))\n",
    "    matrix = bm25_weight(matrix, **params['bm25_params']).T.tocsr() * params['scale']\n",
    "    \n",
    "    return matrix\n",
    "\n",
    "def compute_als_decomposition(matrix, params):\n",
    "    np.random.seed(params['seed'])\n",
    "    implicit_als = implicit.als.AlternatingLeastSquares(\n",
    "        params['n_components'], num_threads=params['num_threads'], iterations=params['num_iter'],\n",
    "        regularization=params['regularization']\n",
    "    )\n",
    "    implicit_als.fit(matrix)\n",
    "\n",
    "    return implicit_als"
   ]
  },
  {
   "cell_type": "code",
   "execution_count": 42,
   "metadata": {},
   "outputs": [],
   "source": [
    "previous_fold = pairs.loc[folds['previous']].groupby(['customer_id', 'chain_id'])['target'].max().reset_index()\n",
    "prev_matrix = create_item_user_matrix(previous_fold, params)\n",
    "\n",
    "train_m, val_m = train_test_split(prev_matrix, 0.7)"
   ]
  },
  {
   "cell_type": "code",
   "execution_count": 43,
   "metadata": {
    "scrolled": true
   },
   "outputs": [
    {
     "data": {
      "application/vnd.jupyter.widget-view+json": {
       "model_id": "052f4c10963e49389332679cd3892336",
       "version_major": 2,
       "version_minor": 0
      },
      "text/plain": [
       "HBox(children=(FloatProgress(value=0.0, max=10.0), HTML(value='')))"
      ]
     },
     "metadata": {},
     "output_type": "display_data"
    },
    {
     "name": "stdout",
     "output_type": "stream",
     "text": [
      "\n"
     ]
    }
   ],
   "source": [
    "implicit_als = compute_als_decomposition(train_m, params)"
   ]
  },
  {
   "cell_type": "code",
   "execution_count": 44,
   "metadata": {
    "scrolled": true
   },
   "outputs": [
    {
     "data": {
      "application/vnd.jupyter.widget-view+json": {
       "model_id": "69caa49e7f0c4abe9bf695f1e8355530",
       "version_major": 2,
       "version_minor": 0
      },
      "text/plain": [
       "HBox(children=(FloatProgress(value=0.0, max=560796.0), HTML(value='')))"
      ]
     },
     "metadata": {},
     "output_type": "display_data"
    },
    {
     "name": "stdout",
     "output_type": "stream",
     "text": [
      "\n"
     ]
    },
    {
     "data": {
      "text/plain": [
       "0.07463876586266673"
      ]
     },
     "execution_count": 44,
     "metadata": {},
     "output_type": "execute_result"
    }
   ],
   "source": [
    "precision_at_k(implicit_als, train_m.T, val_m.T, K=15)"
   ]
  },
  {
   "cell_type": "code",
   "execution_count": 45,
   "metadata": {},
   "outputs": [
    {
     "data": {
      "application/vnd.jupyter.widget-view+json": {
       "model_id": "fb90f198b5b74024ba2908139cfba7a4",
       "version_major": 2,
       "version_minor": 0
      },
      "text/plain": [
       "HBox(children=(FloatProgress(value=0.0, max=560796.0), HTML(value='')))"
      ]
     },
     "metadata": {},
     "output_type": "display_data"
    },
    {
     "name": "stdout",
     "output_type": "stream",
     "text": [
      "\n"
     ]
    },
    {
     "data": {
      "text/plain": [
       "0.044341897295772356"
      ]
     },
     "execution_count": 45,
     "metadata": {},
     "output_type": "execute_result"
    }
   ],
   "source": [
    "ndcg_at_k(implicit_als, train_m.T, val_m.T)"
   ]
  },
  {
   "cell_type": "code",
   "execution_count": null,
   "metadata": {},
   "outputs": [],
   "source": []
  }
 ],
 "metadata": {
  "kernelspec": {
   "display_name": "Python 3",
   "language": "python",
   "name": "python3"
  },
  "language_info": {
   "codemirror_mode": {
    "name": "ipython",
    "version": 3
   },
   "file_extension": ".py",
   "mimetype": "text/x-python",
   "name": "python",
   "nbconvert_exporter": "python",
   "pygments_lexer": "ipython3",
   "version": "3.8.3"
  }
 },
 "nbformat": 4,
 "nbformat_minor": 4
}
